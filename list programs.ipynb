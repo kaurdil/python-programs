{
 "cells": [
  {
   "cell_type": "code",
   "execution_count": 1,
   "metadata": {},
   "outputs": [],
   "source": [
    "\n",
    "def deep(l1,l2,i=0):\n",
    "    \n",
    "    '''\n",
    "    '''\n",
    "    if(len(l1)==i):\n",
    "        return l2\n",
    "    \n",
    "    elif(type(l1[i])==list):\n",
    "        l3=[]\n",
    "        l3.extend(l1[i])\n",
    "        l2.append(l3)\n",
    "        return deep(l1,l2,i+1)\n",
    "    else:\n",
    "        l2.append(l1[i])\n",
    "        return deep(l1,l2,i+1)\n",
    "        \n",
    "        \n",
    "        "
   ]
  },
  {
   "cell_type": "code",
   "execution_count": 2,
   "metadata": {},
   "outputs": [
    {
     "name": "stdout",
     "output_type": "stream",
     "text": [
      "2879146349256 2879146352456\n"
     ]
    }
   ],
   "source": [
    "a=[1,[2,3],[4,8,9],8]\n",
    "b=deep(a,[],0)\n",
    "b\n",
    "print(id(a[2]),id(b[2]))"
   ]
  },
  {
   "cell_type": "code",
   "execution_count": 1,
   "metadata": {},
   "outputs": [],
   "source": [
    "def flatten(l1,l2,i=0):\n",
    "    \n",
    "    '''\n",
    "    '''\n",
    "    # base case: list with one element\n",
    "    if(len(l1)-1==i):           \n",
    "        if type(l1[i]) == list:\n",
    "            flatten(l1[i],l2,0)\n",
    "        else:\n",
    "            l2.append(l1[i]) \n",
    "        \n",
    "    \n",
    "    elif(type(l1[i])==list):\n",
    "        flatten(l1[i],l2,0)\n",
    "        flatten(l1,l2,i+1)\n",
    "    else:\n",
    "        l2.append(l1[i])\n",
    "        flatten(l1,l2,i+1)\n",
    "    return l2\n",
    "        "
   ]
  },
  {
   "cell_type": "code",
   "execution_count": 3,
   "metadata": {},
   "outputs": [
    {
     "data": {
      "text/plain": [
       "[1, 2, 3, 7, 0, 8]"
      ]
     },
     "execution_count": 3,
     "metadata": {},
     "output_type": "execute_result"
    }
   ],
   "source": [
    "flatten([1,[2,[3,7,0]],[8]],[])"
   ]
  },
  {
   "cell_type": "code",
   "execution_count": 16,
   "metadata": {},
   "outputs": [],
   "source": [
    "def crossprod(l1,l2,l3,i=0,j=0):\n",
    "    '''\n",
    "    '''\n",
    "    if(len(l1)!=i):\n",
    "        if(len(l2)!=j):\n",
    "            l3.append([l1[i],l2[j]])\n",
    "            crossprod(l1,l2,l3,i,j+1)\n",
    "        else:\n",
    "            crossprod(l1,l2,l3,i+1,j=0)\n",
    "    return l3\n",
    "        \n",
    "          "
   ]
  },
  {
   "cell_type": "code",
   "execution_count": 18,
   "metadata": {},
   "outputs": [
    {
     "data": {
      "text/plain": [
       "[['a', 3], ['a', 5], ['a', 2], ['b', 3], ['b', 5], ['b', 2]]"
      ]
     },
     "execution_count": 18,
     "metadata": {},
     "output_type": "execute_result"
    }
   ],
   "source": [
    "crossprod(['a','b'],[3,5,2],[],i=0,j=0)"
   ]
  },
  {
   "cell_type": "code",
   "execution_count": 19,
   "metadata": {},
   "outputs": [],
   "source": [
    "def cube(n):\n",
    "    '''\n",
    "    '''\n",
    "    n=n**3\n",
    "    return n\n"
   ]
  },
  {
   "cell_type": "code",
   "execution_count": 20,
   "metadata": {},
   "outputs": [
    {
     "data": {
      "text/plain": [
       "27"
      ]
     },
     "execution_count": 20,
     "metadata": {},
     "output_type": "execute_result"
    }
   ],
   "source": [
    "cube(3)"
   ]
  },
  {
   "cell_type": "code",
   "execution_count": 22,
   "metadata": {},
   "outputs": [],
   "source": [
    "def sum2cubes(x,y):\n",
    "    '''\n",
    "    '''\n",
    "    n=x**3+y**3\n",
    "    return n"
   ]
  },
  {
   "cell_type": "code",
   "execution_count": 25,
   "metadata": {},
   "outputs": [
    {
     "data": {
      "text/plain": [
       "35"
      ]
     },
     "execution_count": 25,
     "metadata": {},
     "output_type": "execute_result"
    }
   ],
   "source": [
    "sum2cubes(3,2)"
   ]
  },
  {
   "cell_type": "code",
   "execution_count": 44,
   "metadata": {},
   "outputs": [],
   "source": [
    "def cubelist(l1,l2, i=0):\n",
    "    '''\n",
    "    '''\n",
    "    if(len(l1)!=i):\n",
    "        l2.append(l1[i]**3)\n",
    "        cubelist(l1,l2,i+1)\n",
    "        \n",
    "    return l2\n",
    "    \n",
    "        "
   ]
  },
  {
   "cell_type": "code",
   "execution_count": 45,
   "metadata": {},
   "outputs": [
    {
     "data": {
      "text/plain": [
       "[1, 8, 27]"
      ]
     },
     "execution_count": 45,
     "metadata": {},
     "output_type": "execute_result"
    }
   ],
   "source": [
    "cubelist([1,2,3],[], i=0)"
   ]
  },
  {
   "cell_type": "code",
   "execution_count": 89,
   "metadata": {},
   "outputs": [],
   "source": [
    "def sumcube(l1,sum=0,i=0):\n",
    "    '''\n",
    "    '''\n",
    "    if(len(l1)!=i):\n",
    "        l1[i]=l1[i]**3\n",
    "        sum+=l1[i]\n",
    "        return sumcube(l1,sum,i+1)\n",
    "    return sum"
   ]
  },
  {
   "cell_type": "code",
   "execution_count": 90,
   "metadata": {},
   "outputs": [
    {
     "data": {
      "text/plain": [
       "36"
      ]
     },
     "execution_count": 90,
     "metadata": {},
     "output_type": "execute_result"
    }
   ],
   "source": [
    "sumcube([1,2,3],sum=0,i=0)"
   ]
  },
  {
   "cell_type": "code",
   "execution_count": 84,
   "metadata": {},
   "outputs": [],
   "source": [
    "def sumeven(l1,sum=0,i=0):\n",
    "    '''\n",
    "    '''\n",
    "    if(len(l1)==i):\n",
    "        return sum\n",
    "        \n",
    "    elif(l1[i]%2==0):\n",
    "            l1[i]=l1[i]**3\n",
    "            sum+=l1[i]\n",
    "            return sumeven(l1,sum,i+1) \n",
    "    else:\n",
    "        return sumeven(l1,sum,i+1) \n",
    "    \n"
   ]
  },
  {
   "cell_type": "code",
   "execution_count": 86,
   "metadata": {},
   "outputs": [
    {
     "data": {
      "text/plain": [
       "520"
      ]
     },
     "execution_count": 86,
     "metadata": {},
     "output_type": "execute_result"
    }
   ],
   "source": [
    "sumeven([1,2,3,8],sum=0,i=0)"
   ]
  },
  {
   "cell_type": "code",
   "execution_count": 11,
   "metadata": {},
   "outputs": [],
   "source": [
    "1# removing duplicates in the same list\n",
    "def remove_duplicate(l1,i=0):\n",
    "    '''\n",
    "    '''\n",
    "    if(len(l1)==i):\n",
    "         return 0\n",
    "    else:\n",
    "        if(l1.count(l1[i])>1):\n",
    "            l1.remove(l1[i])\n",
    "            remove_duplicate(l1,0)\n",
    "        else:\n",
    "            remove_duplicate(l1,i+1)\n",
    "    return l1\n"
   ]
  },
  {
   "cell_type": "code",
   "execution_count": 12,
   "metadata": {},
   "outputs": [
    {
     "data": {
      "text/plain": [
       "[1, 4, 2, 3, 5]"
      ]
     },
     "execution_count": 12,
     "metadata": {},
     "output_type": "execute_result"
    }
   ],
   "source": [
    "remove_duplicate([1,2,3,2,4,2,3,5],i=0)"
   ]
  },
  {
   "cell_type": "code",
   "execution_count": 13,
   "metadata": {},
   "outputs": [],
   "source": [
    "1# remove duplicate and return another list\n",
    "def remove_duplicate(l1, l2, i=0):\n",
    "    '''\n",
    "    '''\n",
    "    if(len(l1)==i):\n",
    "         return 0\n",
    "    else:\n",
    "        if(l1[i] in l2 ):\n",
    "            remove_duplicate(l1, l2, i+1)\n",
    "        else:\n",
    "            l2.append(l1[i])\n",
    "            return remove_duplicate(l1, l2, i+1)\n",
    "    return l2"
   ]
  },
  {
   "cell_type": "code",
   "execution_count": 14,
   "metadata": {},
   "outputs": [
    {
     "data": {
      "text/plain": [
       "[1, 2, 3, 4, 5]"
      ]
     },
     "execution_count": 14,
     "metadata": {},
     "output_type": "execute_result"
    }
   ],
   "source": [
    "remove_duplicate([1,2,3,4,4,2,3,1,5], [], i=0)"
   ]
  },
  {
   "cell_type": "code",
   "execution_count": 3,
   "metadata": {},
   "outputs": [
    {
     "data": {
      "text/plain": [
       "[3, 5, 6, 10]"
      ]
     },
     "execution_count": 3,
     "metadata": {},
     "output_type": "execute_result"
    }
   ],
   "source": [
    "#2 cumulative list \n",
    "def cumul_list(l1,i=0):\n",
    "    '''\n",
    "    '''\n",
    "    if(i==(len(l1)-1)):\n",
    "        return l1\n",
    "        \n",
    "    else:\n",
    "        l1[i+1]+=l1[i]\n",
    "        return cumul_list(l1,i+1)\n",
    "cumul_list([3,2,,4],0)"
   ]
  },
  {
   "cell_type": "code",
   "execution_count": 13,
   "metadata": {},
   "outputs": [],
   "source": [
    "#3 write a program that takes a sentence as input from the user and computes the frequencyof each letter .\n",
    "#Use a variable of dictionary type to maintain the count\n",
    "def CountFrequency(str,freq,item=0): \n",
    "    '''\n",
    "    '''\n",
    "  \n",
    "    stl=list(str)\n",
    "    if(len(stl)!=item):\n",
    "        if (stl[item] in freq): \n",
    "            freq[stl[item]] += 1\n",
    "            CountFrequency(str,freq,item+1)\n",
    "        else: \n",
    "            freq[stl[item]] = 1\n",
    "            CountFrequency(str,freq,item+1)\n",
    "    \n",
    "    return freq.items()\n",
    "  \n",
    "\n",
    "  \n"
   ]
  },
  {
   "cell_type": "code",
   "execution_count": 8,
   "metadata": {},
   "outputs": [
    {
     "data": {
      "text/plain": [
       "dict_items([('h', 2), ('e', 2), ('l', 2), ('o', 3), (' ', 3), ('w', 1), ('a', 1), ('r', 1), ('y', 1), ('u', 1)])"
      ]
     },
     "execution_count": 8,
     "metadata": {},
     "output_type": "execute_result"
    }
   ],
   "source": [
    "CountFrequency('hello how are you',{},item=0)"
   ]
  },
  {
   "cell_type": "code",
   "execution_count": 16,
   "metadata": {},
   "outputs": [],
   "source": [
    "#4\n",
    "def func():\n",
    "    l1=list()\n",
    "    l2=list()\n",
    "    for i in range (0,5):\n",
    "        l1.append(i)\n",
    "        l2.append(i+3)\n",
    "    print(l1)\n",
    "    print(l2)"
   ]
  },
  {
   "cell_type": "code",
   "execution_count": 17,
   "metadata": {},
   "outputs": [
    {
     "name": "stdout",
     "output_type": "stream",
     "text": [
      "[0, 1, 2, 3, 4]\n",
      "[3, 4, 5, 6, 7]\n"
     ]
    }
   ],
   "source": [
    "func()"
   ]
  },
  {
   "cell_type": "code",
   "execution_count": 22,
   "metadata": {},
   "outputs": [],
   "source": [
    "#4\n",
    "def func1():\n",
    "    l1=list()\n",
    "    l2=list()\n",
    "    for i in range (0,5):\n",
    "        l1.append(i)\n",
    "        l2.append(i+3)\n",
    "        l1, l2 = l2, l1\n",
    "    print(l1)\n",
    "    print(l2)"
   ]
  },
  {
   "cell_type": "code",
   "execution_count": 23,
   "metadata": {},
   "outputs": [
    {
     "name": "stdout",
     "output_type": "stream",
     "text": [
      "[3, 1, 5, 3, 7]\n",
      "[0, 4, 2, 6, 4]\n"
     ]
    }
   ],
   "source": [
    "func1()"
   ]
  },
  {
   "cell_type": "code",
   "execution_count": 20,
   "metadata": {},
   "outputs": [
    {
     "name": "stdout",
     "output_type": "stream",
     "text": [
      "30\n"
     ]
    }
   ],
   "source": [
    "5#\n",
    "c=[1,2,3,4,5,6,7,8,9,10]\n",
    "result=0\n",
    "for i in range(0,10):\n",
    "     if(c[i]%2==0):\n",
    "        result+=c[i]\n",
    "print(result)"
   ]
  },
  {
   "cell_type": "code",
   "execution_count": 21,
   "metadata": {},
   "outputs": [
    {
     "name": "stdout",
     "output_type": "stream",
     "text": [
      "25\n"
     ]
    }
   ],
   "source": [
    "5#\n",
    "c=[1,2,3,4,5,6,7,8,9,10]\n",
    "result=0\n",
    "for i in range(0,10):\n",
    "     if(c[i]%2!=0):\n",
    "        result+=c[i]\n",
    "print(result)"
   ]
  },
  {
   "cell_type": "code",
   "execution_count": 25,
   "metadata": {},
   "outputs": [
    {
     "name": "stdout",
     "output_type": "stream",
     "text": [
      "omputerc\n"
     ]
    }
   ],
   "source": [
    "subject='computer'\n",
    "subject=list(subject)\n",
    "ch=subject[0]\n",
    "for i in range (0, len(subject)-1):\n",
    "    subject[i]=subject[i+1]\n",
    "subject[len(subject)-1]=ch\n",
    "print(''.join(subject))"
   ]
  },
  {
   "cell_type": "markdown",
   "metadata": {},
   "source": [
    " quantity=[15 , 30, 12, 34, 56, 99]\n",
    " \n",
    "total=0\n",
    "for i in range(0,len(quantity)):\n",
    "    if(quantity[i]>15):\n",
    "        total+=quantity[i]\n",
    "print(total)"
   ]
  },
  {
   "cell_type": "code",
   "execution_count": 26,
   "metadata": {},
   "outputs": [
    {
     "name": "stdout",
     "output_type": "stream",
     "text": [
      "219\n"
     ]
    }
   ],
   "source": [
    "quantity=[15 , 30, 12, 34, 56, 99]\n",
    "\n",
    "total=0 \n",
    "for i in range(0,len(quantity)): \n",
    "    if(quantity[i]>15): \n",
    "        total+=quantity[i] \n",
    "print(total)"
   ]
  },
  {
   "cell_type": "code",
   "execution_count": 27,
   "metadata": {},
   "outputs": [
    {
     "name": "stdout",
     "output_type": "stream",
     "text": [
      "[2, 4, 8, 12, 36, 20, 24, 63, 34]\n"
     ]
    }
   ],
   "source": [
    "x=[1, 2, 4, 6, 9, 10, 14, 15, 17]\n",
    "for i in range (0,len(x)):\n",
    "    if(x[i]%2==0):\n",
    "        x[i]=4*i\n",
    "    elif(x[i]%3 == 0):\n",
    "        x[i]=9*i\n",
    "    else:\n",
    "        x[i]*=2\n",
    "print(x)"
   ]
  },
  {
   "cell_type": "code",
   "execution_count": 39,
   "metadata": {},
   "outputs": [
    {
     "data": {
      "text/plain": [
       "[[0, 0, 0, 0, 0], [1, 2, 3, 4, 5], [2, 4, 6, 8, 10], [3, 6, 9, 12, 15]]"
      ]
     },
     "execution_count": 39,
     "metadata": {},
     "output_type": "execute_result"
    }
   ],
   "source": [
    "#6\n",
    "def n_list(n):\n",
    "    '''\n",
    "    '''\n",
    "    l2=[]\n",
    "    l1=[]\n",
    "    for i in range(0,n):\n",
    "        for j in range(1,7):\n",
    "            if(j<6):\n",
    "                l2.append(i*j)\n",
    "            else:\n",
    "                l1.append(l2)\n",
    "                l2=[]\n",
    "                n=n-1\n",
    "                \n",
    "         \n",
    "    return l1\n",
    "n_list(4)"
   ]
  },
  {
   "cell_type": "code",
   "execution_count": 2,
   "metadata": {},
   "outputs": [
    {
     "name": "stdout",
     "output_type": "stream",
     "text": [
      "enter word meaning dictionary{'dubious':'doubtful','hilarious':'amusing','suspicious':'doubtful','comical':'amusing','hello':'hi'}\n",
      "inverted dictionary: {'doubtful': ['dubious', 'suspicious'], 'amusing': ['hilarious', 'comical']}\n"
     ]
    }
   ],
   "source": [
    "def buildInv(dict1):\n",
    "    invdict={}\n",
    "    for key,value in dict1.items():\n",
    "        if value in invdict:\n",
    "            invdict[value].append(key)\n",
    "        else:\n",
    "            invdict[value]=[key]\n",
    "    invdict={x:invdict[x] for x in invdict if len(invdict[x])>1}\n",
    "    return invdict\n",
    "def main():\n",
    "    wordmeaning=eval(input('enter word meaning dictionary'))\n",
    "    meaningword=buildInv(wordmeaning)\n",
    "    print('inverted dictionary:',meaningword)\n",
    "    \n",
    "if __name__ == '__main__':\n",
    "    main()\n",
    "   \n",
    "    "
   ]
  },
  {
   "cell_type": "code",
   "execution_count": 4,
   "metadata": {},
   "outputs": [
    {
     "name": "stdout",
     "output_type": "stream",
     "text": [
      "enter word meaning dictionary{'1':'one','2':'two','3':'three'}\n",
      "enter num321\n",
      "three two one \n"
     ]
    }
   ],
   "source": [
    "#7\n",
    "def map_no(no,dict1):\n",
    "    l=list(str(no))\n",
    "    str1=\"\"\n",
    "    l2=[]\n",
    "\n",
    "    for i in l:\n",
    "        for key,value in dict1.items():\n",
    "            if(i == key):\n",
    "                l2.append(value)\n",
    "                l2.append(\" \")\n",
    "\n",
    "    \n",
    "    return str1.join(l2)          \n",
    "\n",
    "        \n",
    "    \n",
    "def main():\n",
    "    wordmeaning=eval(input('enter word meaning dictionary'))\n",
    "    num=eval(input('enter num'))\n",
    "    meaningword=map_no(num,wordmeaning)\n",
    "    print(meaningword)\n",
    "    \n",
    "if __name__ == '__main__':\n",
    "    main()\n",
    "   \n",
    "\n",
    "    \n",
    "     \n",
    "\n",
    "    "
   ]
  },
  {
   "cell_type": "code",
   "execution_count": 3,
   "metadata": {},
   "outputs": [],
   "source": [
    "def copyList(myList, newList = [], index = 0):\n",
    "    '''\n",
    "    Objective: To copy a list\n",
    "    Input Parameters: myList - a list with some elements\n",
    "    Return Values: newList - copied list\n",
    "    Approach: Recursive\n",
    "    '''\n",
    "    if index < len(myList):\n",
    "        if type(myList[index]) == list:\n",
    "            a = copyList(myList[index], newList = [])\n",
    "            newList.append(a)\n",
    "        else:\n",
    "            newList.append(myList[index])\n",
    "        return copyList(myList, newList, index + 1)\n",
    "    else:\n",
    "        return newList"
   ]
  },
  {
   "cell_type": "code",
   "execution_count": 4,
   "metadata": {},
   "outputs": [
    {
     "name": "stdout",
     "output_type": "stream",
     "text": [
      "140715089502736 140715089502736\n"
     ]
    }
   ],
   "source": [
    "a = [2,5,6,23,12,[1,4,7],[6,7]]\n",
    "b = copyList(a)\n",
    "b\n",
    "print(id(a[1]),id(b[1]))"
   ]
  },
  {
   "cell_type": "code",
   "execution_count": 21,
   "metadata": {},
   "outputs": [
    {
     "name": "stdout",
     "output_type": "stream",
     "text": [
      "['gita', 'rohan', 'mohan']\n"
     ]
    }
   ],
   "source": [
    "names=['rohan','mohan','gita']\n",
    "names.sort(key=len)\n",
    "print(names)"
   ]
  },
  {
   "cell_type": "code",
   "execution_count": 20,
   "metadata": {},
   "outputs": [
    {
     "data": {
      "text/plain": [
       "'rohan'"
      ]
     },
     "execution_count": 20,
     "metadata": {},
     "output_type": "execute_result"
    }
   ],
   "source": [
    "max('rohan','mohan')"
   ]
  },
  {
   "cell_type": "code",
   "execution_count": 22,
   "metadata": {},
   "outputs": [
    {
     "name": "stdout",
     "output_type": "stream",
     "text": [
      "[2, 4, 6, 8, 10, 12, 14, 16, 18, 20]\n"
     ]
    }
   ],
   "source": [
    "list3=[(x*2) for x in range (1,11)]\n",
    "print(list3)"
   ]
  },
  {
   "cell_type": "code",
   "execution_count": 23,
   "metadata": {},
   "outputs": [
    {
     "name": "stdout",
     "output_type": "stream",
     "text": [
      "[2]\n"
     ]
    }
   ],
   "source": [
    "del list3[1:]\n",
    "print(list3)"
   ]
  },
  {
   "cell_type": "code",
   "execution_count": 24,
   "metadata": {},
   "outputs": [
    {
     "name": "stdout",
     "output_type": "stream",
     "text": [
      "[2, 3, 4, 5, 3, 4, 5, 6, 4, 5, 6, 7, 5, 6, 7, 8]\n"
     ]
    }
   ],
   "source": [
    "list4=[x+y for x in range (1,5) for y in range (1,5)]\n",
    "print(list4)"
   ]
  },
  {
   "cell_type": "code",
   "execution_count": 30,
   "metadata": {},
   "outputs": [
    {
     "data": {
      "text/plain": [
       "'a,e,i,o,u'"
      ]
     },
     "execution_count": 30,
     "metadata": {},
     "output_type": "execute_result"
    }
   ],
   "source": [
    "tuple1=('a','e','i','o','u')\n",
    "tuple2=([2,4,6,8],[3,6,9],[4,8],5)\n",
    "#tuple2[3]=6\n",
    "#tuple2.append(5)\n",
    "#t1=tuple2+(5)\n",
    "','.join(tuple1)"
   ]
  },
  {
   "cell_type": "code",
   "execution_count": 31,
   "metadata": {},
   "outputs": [
    {
     "data": {
      "text/plain": [
       "[('apple', 'red'), ('orange', 'orange')]"
      ]
     },
     "execution_count": 31,
     "metadata": {},
     "output_type": "execute_result"
    }
   ],
   "source": [
    "list(zip(['apple','orange'],('red','orange')))"
   ]
  },
  {
   "cell_type": "code",
   "execution_count": 33,
   "metadata": {},
   "outputs": [
    {
     "data": {
      "text/plain": [
       "(None,\n",
       " {'X': ['eng', 'hindo', 'maths', 'science'],\n",
       "  'XII': ['english', 'physics', 'chemistry', 'maths', 'computer science']})"
      ]
     },
     "execution_count": 33,
     "metadata": {},
     "output_type": "execute_result"
    }
   ],
   "source": [
    "dict2={'X':['eng','hindo','maths','science'],'XII':['english','physics','chemistry','maths']}\n",
    "dict2['XII'].append('computer science'),dict2"
   ]
  },
  {
   "cell_type": "code",
   "execution_count": 34,
   "metadata": {},
   "outputs": [
    {
     "data": {
      "text/plain": [
       "False"
      ]
     },
     "execution_count": 34,
     "metadata": {},
     "output_type": "execute_result"
    }
   ],
   "source": [
    " dict1={'apple':'red','mango':'yello','orange':'orange'}\n",
    "'red' in dict1"
   ]
  },
  {
   "cell_type": "code",
   "execution_count": 35,
   "metadata": {},
   "outputs": [
    {
     "data": {
      "text/plain": [
       "[('apple', 'red'), ('mango', 'yello'), ('orange', 'orange')]"
      ]
     },
     "execution_count": 35,
     "metadata": {},
     "output_type": "execute_result"
    }
   ],
   "source": [
    "list(dict1.items())"
   ]
  },
  {
   "cell_type": "code",
   "execution_count": 36,
   "metadata": {},
   "outputs": [
    {
     "data": {
      "text/plain": [
       "['X', 'XII']"
      ]
     },
     "execution_count": 36,
     "metadata": {},
     "output_type": "execute_result"
    }
   ],
   "source": [
    "list(dict2.keys())"
   ]
  },
  {
   "cell_type": "code",
   "execution_count": 37,
   "metadata": {},
   "outputs": [
    {
     "data": {
      "text/plain": [
       "'None'"
      ]
     },
     "execution_count": 37,
     "metadata": {},
     "output_type": "execute_result"
    }
   ],
   "source": [
    "dict2.get('XI','None')"
   ]
  },
  {
   "cell_type": "code",
   "execution_count": 38,
   "metadata": {},
   "outputs": [
    {
     "ename": "TypeError",
     "evalue": "'<' not supported between instances of 'int' and 'str'",
     "output_type": "error",
     "traceback": [
      "\u001b[1;31m---------------------------------------------------------------------------\u001b[0m",
      "\u001b[1;31mTypeError\u001b[0m                                 Traceback (most recent call last)",
      "\u001b[1;32m<ipython-input-38-6633b1c72b4a>\u001b[0m in \u001b[0;36m<module>\u001b[1;34m\u001b[0m\n\u001b[0;32m      1\u001b[0m \u001b[0mlist1\u001b[0m\u001b[1;33m=\u001b[0m\u001b[1;33m[\u001b[0m\u001b[1;34m'a'\u001b[0m\u001b[1;33m,\u001b[0m\u001b[1;36m1\u001b[0m\u001b[1;33m,\u001b[0m\u001b[1;34m'z'\u001b[0m\u001b[1;33m,\u001b[0m\u001b[1;36m5\u001b[0m\u001b[1;33m,\u001b[0m\u001b[1;34m'e'\u001b[0m\u001b[1;33m]\u001b[0m\u001b[1;33m\u001b[0m\u001b[1;33m\u001b[0m\u001b[0m\n\u001b[1;32m----> 2\u001b[1;33m \u001b[0mprint\u001b[0m\u001b[1;33m(\u001b[0m\u001b[0mmin\u001b[0m\u001b[1;33m(\u001b[0m\u001b[0mlist1\u001b[0m\u001b[1;33m)\u001b[0m\u001b[1;33m)\u001b[0m\u001b[1;33m\u001b[0m\u001b[1;33m\u001b[0m\u001b[0m\n\u001b[0m",
      "\u001b[1;31mTypeError\u001b[0m: '<' not supported between instances of 'int' and 'str'"
     ]
    }
   ],
   "source": [
    "list1=['a',1,'z',5,'e']\n",
    "print(min(list1))"
   ]
  },
  {
   "cell_type": "code",
   "execution_count": null,
   "metadata": {},
   "outputs": [],
   "source": [
    "def deepcopy(lst1,lst2):\n",
    "    '''\n",
    "    '''\n",
    "    if(lst1==[]):\n",
    "        pass\n",
    "    else:\n",
    "        if type(lst1[0])!=list:\n",
    "            lst2.append(lst1[0])\n",
    "        else:\n",
    "            lst2.append([])\n",
    "            deepcopy(lst1[0],lst2[-1])\n",
    "        deepcopy(lst1[1:],lst2)\n",
    "    return lst2\n",
    "deepcopy([1,[6,7],8],[])"
   ]
  },
  {
   "cell_type": "code",
   "execution_count": 2,
   "metadata": {},
   "outputs": [
    {
     "name": "stdout",
     "output_type": "stream",
     "text": [
      "{'a': 400, 'b': 400}\n"
     ]
    }
   ],
   "source": [
    "d1 = {'a': 100, 'b': 200, 'c':300}\n",
    "\n",
    "d2 = {'a': 300, 'b': 200, 'd':400}\n",
    "\n",
    "d3 = {}\n",
    "\n",
    "for i, j in d1.items():\n",
    "\n",
    "    for x, y in d2.items():\n",
    "\n",
    "        if i == x:\n",
    "\n",
    "            d3[i]=(j+y)\n",
    "\n",
    "print(d3)\n",
    "\n",
    "#My results = {'a': 400, 'b': 400}"
   ]
  },
  {
   "cell_type": "code",
   "execution_count": null,
   "metadata": {},
   "outputs": [],
   "source": []
  }
 ],
 "metadata": {
  "kernelspec": {
   "display_name": "Python 3",
   "language": "python",
   "name": "python3"
  },
  "language_info": {
   "codemirror_mode": {
    "name": "ipython",
    "version": 3
   },
   "file_extension": ".py",
   "mimetype": "text/x-python",
   "name": "python",
   "nbconvert_exporter": "python",
   "pygments_lexer": "ipython3",
   "version": "3.7.4"
  }
 },
 "nbformat": 4,
 "nbformat_minor": 2
}
