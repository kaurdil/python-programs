{
 "cells": [
  {
   "cell_type": "code",
   "execution_count": 1,
   "metadata": {},
   "outputs": [
    {
     "name": "stdout",
     "output_type": "stream",
     "text": [
      "012 013 014 015 016 017 018 019 023 024 025 026 027 028 029 034 035 036 037 038 039 045 046 047 048 049 056 057 058 059 067 068 069 078 079 089 123 124 125 126 127 128 129 134 135 136 137 138 139 145 146 147 148 149 156 157 158 159 167 168 169 178 179 189 234 235 236 237 238 239 245 246 247 248 249 256 257 258 259 267 268 269 278 279 289 345 346 347 348 349 356 357 358 359 367 368 369 378 379 389 456 457 458 459 467 468 469 478 479 489 567 568 569 578 579 589 678 679 689 789 "
     ]
    }
   ],
   "source": [
    "def findStrictlyIncreasingNum(start, out, n): \n",
    "      \n",
    "    # If number becomes N-digit, prit \n",
    "    if (n == 0): \n",
    "        print(out, end = \" \") \n",
    "        return\n",
    "  \n",
    "    # start from (prev digit + 1) till 9 \n",
    "    for i in range(start, 10): \n",
    "          \n",
    "        # append current digit to number \n",
    "        str1 = out + str(i) \n",
    "  \n",
    "        # recurse for next digit \n",
    "        findStrictlyIncreasingNum(i + 1,  \n",
    "                            str1, n - 1) \n",
    "n = 3\n",
    "findStrictlyIncreasingNum(0, \"\", n) "
   ]
  },
  {
   "cell_type": "code",
   "execution_count": 2,
   "metadata": {},
   "outputs": [
    {
     "name": "stdout",
     "output_type": "stream",
     "text": [
      "0 0 0 0 \n",
      "0 0 0 1 \n",
      "0 0 1 0 \n",
      "0 0 1 1 \n",
      "0 1 0 0 \n",
      "0 1 0 1 \n",
      "0 1 1 0 \n",
      "0 1 1 1 \n",
      "1 0 0 0 \n",
      "1 0 0 1 \n",
      "1 0 1 0 \n",
      "1 0 1 1 \n",
      "1 1 0 0 \n",
      "1 1 0 1 \n",
      "1 1 1 0 \n",
      "1 1 1 1 \n"
     ]
    }
   ],
   "source": [
    "def printTheArray(arr, n):  \n",
    "  \n",
    "    for i in range(0, n):  \n",
    "        print(arr[i], end = \" \")  \n",
    "      \n",
    "    print() \n",
    "  \n",
    "# Function to generate all binary strings  \n",
    "def generateAllBinaryStrings(n, arr, i):  \n",
    "  \n",
    "    if i == n: \n",
    "        printTheArray(arr, n)  \n",
    "        return\n",
    "      \n",
    "    # First assign \"0\" at ith position  \n",
    "    # and try for all other permutations  \n",
    "    # for remaining positions  \n",
    "    arr[i] = 0\n",
    "    generateAllBinaryStrings(n, arr, i + 1)  \n",
    "  \n",
    "    # And then assign \"1\" at ith position  \n",
    "    # and try for all other permutations  \n",
    "    # for remaining positions  \n",
    "    arr[i] = 1\n",
    "    generateAllBinaryStrings(n, arr, i + 1)  \n",
    "  \n",
    "# Driver Code  \n",
    "if __name__ == \"__main__\":  \n",
    "  \n",
    "    n = 4\n",
    "    arr = [None] * n  \n",
    "  \n",
    "    # Print all binary strings  \n",
    "    generateAllBinaryStrings(n, arr, 0)  \n"
   ]
  },
  {
   "cell_type": "code",
   "execution_count": 3,
   "metadata": {},
   "outputs": [
    {
     "name": "stdout",
     "output_type": "stream",
     "text": [
      "[3, 2, 1]\n",
      "[2, 3, 1]\n",
      "[2, 1, 3]\n",
      "[3, 1, 2]\n",
      "[1, 3, 2]\n",
      "[1, 2, 3]\n"
     ]
    }
   ],
   "source": [
    "def permute(lst1,lst2,k=0,pos=0):\n",
    "    '''\n",
    "    '''\n",
    "    lst2.insert(pos,lst1[k])\n",
    "    if(len(lst1)==len(lst2)):\n",
    "        print(lst2)\n",
    "    else:\n",
    "        permute(lst1,lst2,k+1,pos=0)\n",
    "    lst2.remove(lst1[k])\n",
    "    if(pos<k):\n",
    "        permute(lst1,lst2,k,pos+1)\n",
    "permute([1,2,3],[])"
   ]
  },
  {
   "cell_type": "code",
   "execution_count": 4,
   "metadata": {},
   "outputs": [
    {
     "data": {
      "text/plain": [
       "[1, [6, 7], 8]"
      ]
     },
     "execution_count": 4,
     "metadata": {},
     "output_type": "execute_result"
    }
   ],
   "source": [
    "def deepcopy(lst1,lst2):\n",
    "    '''\n",
    "    '''\n",
    "    if(lst1==[]):\n",
    "        pass\n",
    "    else:\n",
    "        if type(lst1[0])!=list:\n",
    "            lst2.append(lst1[0])\n",
    "        else:\n",
    "            lst2.append([])\n",
    "            deepcopy(lst1[0],lst2[-1])\n",
    "        deepcopy(lst1[1:],lst2)\n",
    "    return lst2\n",
    "deepcopy([1,[6,7],8],[])"
   ]
  },
  {
   "cell_type": "code",
   "execution_count": 5,
   "metadata": {},
   "outputs": [
    {
     "ename": "SyntaxError",
     "evalue": "Missing parentheses in call to 'print'. Did you mean print(\"Move disk 1 from rod\",from_rod,\"to rod\",to_rod)? (<ipython-input-5-5e55100ba897>, line 3)",
     "output_type": "error",
     "traceback": [
      "\u001b[1;36m  File \u001b[1;32m\"<ipython-input-5-5e55100ba897>\"\u001b[1;36m, line \u001b[1;32m3\u001b[0m\n\u001b[1;33m    print \"Move disk 1 from rod\",from_rod,\"to rod\",to_rod\u001b[0m\n\u001b[1;37m                               ^\u001b[0m\n\u001b[1;31mSyntaxError\u001b[0m\u001b[1;31m:\u001b[0m Missing parentheses in call to 'print'. Did you mean print(\"Move disk 1 from rod\",from_rod,\"to rod\",to_rod)?\n"
     ]
    }
   ],
   "source": [
    "def TowerOfHanoi(n , from_rod, to_rod, aux_rod): \n",
    "    if n == 1: \n",
    "        print (\"Move disk 1 from rod\",from_rod,\"to rod\",to_rod)\n",
    "        return\n",
    "    TowerOfHanoi(n-1, from_rod, aux_rod, to_rod) \n",
    "    print (\"Move disk\",n,\"from rod\",from_rod,\"to rod\",to_rod) \n",
    "    TowerOfHanoi(n-1, aux_rod, to_rod, from_rod) \n",
    "          \n",
    "# Driver code \n",
    "n = 4\n",
    "TowerOfHanoi(n, 'A', 'C', 'B')  "
   ]
  },
  {
   "cell_type": "code",
   "execution_count": 11,
   "metadata": {},
   "outputs": [],
   "source": [
    "def flatten(lst1,lst2,i=0):\n",
    "    '''\n",
    "    '''\n",
    "    if(len(lst1)-1==i):\n",
    "        if(type(lst1[i])==list):\n",
    "            flatten(lst1[i],lst2,0)\n",
    "        else:\n",
    "            lst2.append(lst1[i])\n",
    "    elif(type(lst1[i])==list):\n",
    "        flatten(lst1[i],lst2,0)\n",
    "        flatten(lst1,lst2,i+1)\n",
    "    else:\n",
    "        lst2.append(lst1[i])\n",
    "        flatten(lst1,lst2,i+1)\n",
    "    return lst2\n",
    "        \n",
    "     "
   ]
  },
  {
   "cell_type": "code",
   "execution_count": 12,
   "metadata": {},
   "outputs": [
    {
     "data": {
      "text/plain": [
       "[1, 2, 3, 9]"
      ]
     },
     "execution_count": 12,
     "metadata": {},
     "output_type": "execute_result"
    }
   ],
   "source": [
    "flatten([1,[2,3],9],[])"
   ]
  },
  {
   "cell_type": "code",
   "execution_count": 13,
   "metadata": {},
   "outputs": [
    {
     "data": {
      "text/plain": [
       "[1, 2, 3, 50, 4, 5, 6, 50, 7]"
      ]
     },
     "execution_count": 13,
     "metadata": {},
     "output_type": "execute_result"
    }
   ],
   "source": [
    "def insert(l1,x,i,k,count=0):\n",
    "    '''\n",
    "    '''\n",
    "    if(len(l1)!=i):\n",
    "        count+=1\n",
    "        if(count==k):\n",
    "            l1.insert(i+1,x)\n",
    "            return insert(l1,x,i+2,k,0)\n",
    "        else:\n",
    "            return insert(l1,x,i+1,k,count)\n",
    "    return l1\n",
    "insert([1,2,3,4,5,6,7],50,0,3)"
   ]
  },
  {
   "cell_type": "code",
   "execution_count": 14,
   "metadata": {},
   "outputs": [
    {
     "data": {
      "text/plain": [
       "[1, 2, 4, 5, 7, 8, 10, 11]"
      ]
     },
     "execution_count": 14,
     "metadata": {},
     "output_type": "execute_result"
    }
   ],
   "source": [
    "def deletion(l1,i,k,count=0):\n",
    "    '''\n",
    "    '''\n",
    "    if(len(l1)!=i):\n",
    "        count+=1\n",
    "        if(count==k):\n",
    "            l1.remove(l1[i])\n",
    "            return deletion(l1,i,k,0)\n",
    "        else:\n",
    "            return deletion(l1,i+1,k,count)\n",
    "    return l1\n",
    "deletion([1,2,3,4,5,6,7,8,9,10,11],0,3)"
   ]
  },
  {
   "cell_type": "code",
   "execution_count": 4,
   "metadata": {},
   "outputs": [
    {
     "data": {
      "text/plain": [
       "[1, 2, 3, 4, 7, 8, 4]"
      ]
     },
     "execution_count": 4,
     "metadata": {},
     "output_type": "execute_result"
    }
   ],
   "source": [
    "def rmv(st,i):\n",
    "    if i==len(st)-1:\n",
    "        return\n",
    "    if st[i]==st[i+1]:\n",
    "        tmp=st[i]\n",
    "        if(i<len(st) and st[i]==tmp):\n",
    "            st.pop(i)\n",
    "            rmv(st,i) \n",
    "        else:\n",
    "            rmv(st,0)\n",
    "    else:\n",
    "        rmv(st,i+1)\n",
    "    return st\n",
    "\n",
    "inp=[1,2,3,3,3,4,4,7,7,7,8,4]\n",
    "rmv(inp,0)\n"
   ]
  },
  {
   "cell_type": "code",
   "execution_count": 20,
   "metadata": {},
   "outputs": [],
   "source": [
    "def rsum(L):\n",
    "    if type(L) != list:\n",
    "        return L\n",
    "    if L == []:\n",
    "        return 0\n",
    "    return rsum(L[0]) + rsum(L[1:])"
   ]
  },
  {
   "cell_type": "code",
   "execution_count": 21,
   "metadata": {},
   "outputs": [
    {
     "data": {
      "text/plain": [
       "21"
      ]
     },
     "execution_count": 21,
     "metadata": {},
     "output_type": "execute_result"
    }
   ],
   "source": [
    "rsum([2,[4,5,6],[2,2]])"
   ]
  },
  {
   "cell_type": "code",
   "execution_count": null,
   "metadata": {},
   "outputs": [],
   "source": []
  }
 ],
 "metadata": {
  "kernelspec": {
   "display_name": "Python 3",
   "language": "python",
   "name": "python3"
  },
  "language_info": {
   "codemirror_mode": {
    "name": "ipython",
    "version": 3
   },
   "file_extension": ".py",
   "mimetype": "text/x-python",
   "name": "python",
   "nbconvert_exporter": "python",
   "pygments_lexer": "ipython3",
   "version": "3.7.4"
  }
 },
 "nbformat": 4,
 "nbformat_minor": 2
}
