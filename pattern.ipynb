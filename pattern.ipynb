{
 "cells": [
  {
   "cell_type": "code",
   "execution_count": 1,
   "metadata": {},
   "outputs": [],
   "source": [
    "\n",
    "def perfect_sq(n,total,i=1):\n",
    "    '''\n",
    "    '''\n",
    "    if(i<n):\n",
    "        if(n%i==0):\n",
    "            total=total+i   \n",
    "        return perfect_sq(n,total,i+1)\n",
    "    if(total==n):\n",
    "        return True\n",
    "    else:\n",
    "        return False"
   ]
  },
  {
   "cell_type": "code",
   "execution_count": 32,
   "metadata": {},
   "outputs": [
    {
     "data": {
      "text/plain": [
       "True"
      ]
     },
     "execution_count": 32,
     "metadata": {},
     "output_type": "execute_result"
    }
   ],
   "source": [
    "perfect_sq(6,0,i=1)"
   ]
  },
  {
   "cell_type": "code",
   "execution_count": 35,
   "metadata": {},
   "outputs": [],
   "source": [
    "def gcd(a,b): \n",
    "    if a == 0: \n",
    "        return b \n",
    "    return gcd(b % a, a) \n",
    "  \n",
    "# Function to return LCM of two numbers \n",
    "def lcm(a,b): \n",
    "    return (a*b) / gcd(a,b) "
   ]
  },
  {
   "cell_type": "code",
   "execution_count": 36,
   "metadata": {},
   "outputs": [
    {
     "data": {
      "text/plain": [
       "60.0"
      ]
     },
     "execution_count": 36,
     "metadata": {},
     "output_type": "execute_result"
    }
   ],
   "source": [
    "lcm(15,20)"
   ]
  },
  {
   "cell_type": "code",
   "execution_count": 48,
   "metadata": {},
   "outputs": [],
   "source": [
    "def inverted_tri(nrows):\n",
    "    '''\n",
    "    '''\n",
    "    nspaces=0\n",
    "    nstars=(2*nrows)-1\n",
    "    for i in range(1,nrows+1):\n",
    "        print('' * nspaces + '*' * nstars)\n",
    "        nstars-=2\n",
    "        nspaces+=1"
   ]
  },
  {
   "cell_type": "code",
   "execution_count": 49,
   "metadata": {},
   "outputs": [
    {
     "name": "stdout",
     "output_type": "stream",
     "text": [
      "*********\n",
      "\n",
      "*******\n",
      "\n",
      "*****\n",
      "\n",
      "***\n",
      "\n",
      "*\n",
      "\n"
     ]
    }
   ],
   "source": [
    "inverted_tri(5)\n",
    "\n",
    "    "
   ]
  },
  {
   "cell_type": "code",
   "execution_count": 79,
   "metadata": {},
   "outputs": [],
   "source": [
    "def p1(nrows):\n",
    "    '''\n",
    "    '''\n",
    "    nspace=0\n",
    "    for i in range(1,nrows+1):\n",
    "        for j in range(1,i+1):\n",
    "            print(j,\" \" *2 ,end=\"\")\n",
    "        print(\"\\r\")\n",
    "           \n",
    "        "
   ]
  },
  {
   "cell_type": "code",
   "execution_count": 80,
   "metadata": {},
   "outputs": [
    {
     "name": "stdout",
     "output_type": "stream",
     "text": [
      "1   \r\n",
      "1   2   \r\n",
      "1   2   3   \r\n",
      "1   2   3   4   \r\n",
      "1   2   3   4   5   \r\n"
     ]
    }
   ],
   "source": [
    "p1(5)"
   ]
  },
  {
   "cell_type": "code",
   "execution_count": 34,
   "metadata": {},
   "outputs": [],
   "source": [
    "def p2(nrows):\n",
    "    '''\n",
    "    '''\n",
    "\n",
    "    for i in range(1,nrows+1):\n",
    "        for j in range(1,nrows-i+1):\n",
    "            print(\"\",end=\" \")\n",
    "        \n",
    "        for j in range(i,0,-1):\n",
    "            print(j,end=\"\")\n",
    "             \n",
    "        \n",
    "        for j in range(2,i+1):\n",
    "            print(j,end=\"\")\n",
    "           \n",
    "        print()\n",
    "            \n",
    "            \n",
    "            \n",
    "        \n",
    "    \n",
    "           "
   ]
  },
  {
   "cell_type": "code",
   "execution_count": 35,
   "metadata": {},
   "outputs": [
    {
     "name": "stdout",
     "output_type": "stream",
     "text": [
      "    1\n",
      "   212\n",
      "  32123\n",
      " 4321234\n",
      "543212345\n"
     ]
    }
   ],
   "source": [
    "p2(5)"
   ]
  },
  {
   "cell_type": "code",
   "execution_count": 42,
   "metadata": {},
   "outputs": [],
   "source": [
    "def p3(nrows):\n",
    "    '''\n",
    "    '''\n",
    "\n",
    "    for i in range(1,nrows+1):\n",
    "        for j in range((nrows-i)+1,0,-1):\n",
    "            print(j,\" \"*2 ,end=\" \")\n",
    "        \n",
    "        \n",
    "        print()"
   ]
  },
  {
   "cell_type": "code",
   "execution_count": 43,
   "metadata": {},
   "outputs": [
    {
     "name": "stdout",
     "output_type": "stream",
     "text": [
      "5    4    3    2    1    \n",
      "4    3    2    1    \n",
      "3    2    1    \n",
      "2    1    \n",
      "1    \n"
     ]
    }
   ],
   "source": [
    "p3(5)"
   ]
  },
  {
   "cell_type": "code",
   "execution_count": 48,
   "metadata": {},
   "outputs": [],
   "source": [
    "def p4(nrows):\n",
    "    '''\n",
    "    '''\n",
    "\n",
    "    for i in range(1,nrows+1):\n",
    "        for j in range(1,i+1):\n",
    "            print(i,\" \"*2 ,end=\" \")\n",
    "        \n",
    "        \n",
    "        print()"
   ]
  },
  {
   "cell_type": "code",
   "execution_count": 49,
   "metadata": {},
   "outputs": [
    {
     "name": "stdout",
     "output_type": "stream",
     "text": [
      "1    \n",
      "2    2    \n",
      "3    3    3    \n",
      "4    4    4    4    \n",
      "5    5    5    5    5    \n"
     ]
    }
   ],
   "source": [
    "p4(5)"
   ]
  },
  {
   "cell_type": "code",
   "execution_count": 74,
   "metadata": {},
   "outputs": [],
   "source": [
    "def p5(nrows):\n",
    "    '''\n",
    "    '''\n",
    "\n",
    "    for i in range(1,nrows+1):\n",
    "        for j in range(1,(i-1)+1):\n",
    "            print(end=\" \")\n",
    "        for j in range(i,nrows+1):\n",
    "            print(j,end=\"\")\n",
    "        print()\n",
    "        "
   ]
  },
  {
   "cell_type": "code",
   "execution_count": 75,
   "metadata": {},
   "outputs": [
    {
     "name": "stdout",
     "output_type": "stream",
     "text": [
      "12345\n",
      " 2345\n",
      "  345\n",
      "   45\n",
      "    5\n"
     ]
    }
   ],
   "source": [
    "p5(5)"
   ]
  },
  {
   "cell_type": "code",
   "execution_count": 102,
   "metadata": {},
   "outputs": [],
   "source": [
    "def p6(nrows):\n",
    "    '''\n",
    "    '''\n",
    "\n",
    "    for row in range(1,nrows+1):\n",
    "        for col in range(1,nrows+1):\n",
    "            if(row==1 or row==nrows or col==1 or col==nrows):\n",
    "                print(\"*\",end=\"\")\n",
    "            else:\n",
    "                print(end=\" \")\n",
    "        print()"
   ]
  },
  {
   "cell_type": "code",
   "execution_count": 103,
   "metadata": {},
   "outputs": [
    {
     "name": "stdout",
     "output_type": "stream",
     "text": [
      "*****\n",
      "*   *\n",
      "*   *\n",
      "*   *\n",
      "*****\n"
     ]
    }
   ],
   "source": [
    "p6(5)"
   ]
  },
  {
   "cell_type": "code",
   "execution_count": 104,
   "metadata": {},
   "outputs": [
    {
     "name": "stdout",
     "output_type": "stream",
     "text": [
      "****\n",
      "*  *\n",
      "*  *\n",
      "****\n"
     ]
    }
   ],
   "source": [
    "p6(4)"
   ]
  },
  {
   "cell_type": "code",
   "execution_count": 109,
   "metadata": {},
   "outputs": [],
   "source": [
    "def p7(nrows):\n",
    "    '''\n",
    "    '''\n",
    "\n",
    "    for row in range(1,nrows+1):\n",
    "        for col in range(1,nrows+1):\n",
    "            \n",
    "                print(\"*\",\" \"*2,end=\"\")\n",
    "            \n",
    "        print()"
   ]
  },
  {
   "cell_type": "code",
   "execution_count": 110,
   "metadata": {},
   "outputs": [
    {
     "name": "stdout",
     "output_type": "stream",
     "text": [
      "*   *   *   *   *   \n",
      "*   *   *   *   *   \n",
      "*   *   *   *   *   \n",
      "*   *   *   *   *   \n",
      "*   *   *   *   *   \n"
     ]
    }
   ],
   "source": [
    "p7(5)"
   ]
  },
  {
   "cell_type": "code",
   "execution_count": 138,
   "metadata": {},
   "outputs": [],
   "source": [
    "def p8(nrows):\n",
    "    '''\n",
    "    '''\n",
    "    for i in range(1,nrows+1):\n",
    "        for j in range(1, nrows-i+1):\n",
    "            print(end=\" \")\n",
    "        for j in range(i,0,-1):\n",
    "            print(\"*\",end=\"\")\n",
    "        for j in range(2,i+1):\n",
    "            print(\"*\",end=\"\")\n",
    "        print()"
   ]
  },
  {
   "cell_type": "code",
   "execution_count": 139,
   "metadata": {},
   "outputs": [
    {
     "name": "stdout",
     "output_type": "stream",
     "text": [
      "    *\n",
      "   ***\n",
      "  *****\n",
      " *******\n",
      "*********\n"
     ]
    }
   ],
   "source": [
    "p8(5)"
   ]
  },
  {
   "cell_type": "code",
   "execution_count": 240,
   "metadata": {},
   "outputs": [],
   "source": [
    "def p9(nrows):\n",
    "    '''\n",
    "    '''\n",
    "\n",
    "    for row in range(1,nrows+1):\n",
    "        for col in range(1,nrows+4):\n",
    "            if(row==1):\n",
    "                print(\"*\",end=\"\")\n",
    "            elif(row-col==0 and row>1):\n",
    "                print(\"*\",end=\" \")\n",
    "            elif(row+col==8 and row>1):\n",
    "                print(\"*\",end=\"\")\n",
    "            else:\n",
    "                print(end=\" \")\n",
    "            \n",
    "        print()\n",
    "            \n",
    "        "
   ]
  },
  {
   "cell_type": "code",
   "execution_count": 241,
   "metadata": {},
   "outputs": [
    {
     "name": "stdout",
     "output_type": "stream",
     "text": [
      "*******\n",
      " *    * \n",
      "  *  *  \n",
      "   *    \n"
     ]
    }
   ],
   "source": [
    "p9(4)"
   ]
  },
  {
   "cell_type": "code",
   "execution_count": 233,
   "metadata": {},
   "outputs": [],
   "source": [
    "def pm(nrows):\n",
    "    '''\n",
    "    '''\n",
    "\n",
    "    for i in range(1,nrows+1):\n",
    "        for j in range(1,(i-1)+1):\n",
    "            print(end=\" \")\n",
    "        for j in range(i,nrows+1):\n",
    "            print(\"$\",end=\"\")\n",
    "        print()"
   ]
  },
  {
   "cell_type": "code",
   "execution_count": 197,
   "metadata": {},
   "outputs": [
    {
     "name": "stdout",
     "output_type": "stream",
     "text": [
      "$$$$$$\n",
      " $$$$$\n",
      "  $$$$\n",
      "   $$$\n",
      "    $$\n",
      "     $\n"
     ]
    }
   ],
   "source": [
    "pm(6)"
   ]
  },
  {
   "cell_type": "code",
   "execution_count": 203,
   "metadata": {},
   "outputs": [],
   "source": [
    "def pn(nrows):\n",
    "    '''\n",
    "    '''\n",
    "\n",
    "    for i in range(1,nrows+1):\n",
    "        for j in range(1,nrows-i+1):\n",
    "            print(end=\" \")\n",
    "        for j in range(nrows-i+1,nrows+1):\n",
    "            print(\"#\",end=\"\")\n",
    "        print()"
   ]
  },
  {
   "cell_type": "code",
   "execution_count": 204,
   "metadata": {},
   "outputs": [
    {
     "name": "stdout",
     "output_type": "stream",
     "text": [
      "    #\n",
      "   ##\n",
      "  ###\n",
      " ####\n",
      "#####\n"
     ]
    }
   ],
   "source": [
    "pn(5)"
   ]
  },
  {
   "cell_type": "code",
   "execution_count": 218,
   "metadata": {},
   "outputs": [],
   "source": [
    "def pk(nrows):\n",
    "    '''\n",
    "    '''\n",
    "\n",
    "    for row in range(1,nrows+1):\n",
    "        for col in range(1,nrows+1):\n",
    "            if(col+row==5 or col-row==3 or row-col==3 or row+col==11):\n",
    "                print(\"*\",end=\"\")\n",
    "            else:\n",
    "                print(end=\" \")\n",
    "        print()"
   ]
  },
  {
   "cell_type": "code",
   "execution_count": 222,
   "metadata": {},
   "outputs": [
    {
     "name": "stdout",
     "output_type": "stream",
     "text": [
      "   *   \n",
      "  * *  \n",
      " *   * \n",
      "*     *\n",
      " *   * \n",
      "  * *  \n",
      "   *   \n"
     ]
    }
   ],
   "source": [
    "pk(7)"
   ]
  },
  {
   "cell_type": "code",
   "execution_count": null,
   "metadata": {},
   "outputs": [],
   "source": [
    "def a7(x):\n",
    "    '''\n",
    "    '''\n",
    "    epsilon=0.00001\n",
    "    mulby=-x**2\n",
    "    term=1\n",
    "    total=1\n",
    "    nextint=2\n",
    "    while abs(term) > epsilon:\n",
    "        div=nextint*nextint\n",
    "        term=term+mulby/div\n",
    "        total+=term\n",
    "        nextint+=2\n",
    "    return total"
   ]
  },
  {
   "cell_type": "code",
   "execution_count": null,
   "metadata": {},
   "outputs": [],
   "source": [
    "a7(4)"
   ]
  },
  {
   "cell_type": "code",
   "execution_count": 18,
   "metadata": {},
   "outputs": [],
   "source": [
    "def reverse(s): \n",
    "    if len(s) == 0: \n",
    "        return s \n",
    "    else: \n",
    "        return reverse(s[1:]) + s[0] \n",
    "\n",
    "def palindrome(str):\n",
    "    '''\n",
    "    '''\n",
    "    if(str==reverse(str)):\n",
    "        return True\n",
    "    else:\n",
    "        return False\n",
    "    "
   ]
  },
  {
   "cell_type": "code",
   "execution_count": 22,
   "metadata": {},
   "outputs": [
    {
     "data": {
      "text/plain": [
       "False"
      ]
     },
     "execution_count": 22,
     "metadata": {},
     "output_type": "execute_result"
    }
   ],
   "source": [
    "palindrome(\"boba\")"
   ]
  },
  {
   "cell_type": "code",
   "execution_count": 33,
   "metadata": {},
   "outputs": [],
   "source": [
    "def sum_digit(digit,sum=0):\n",
    "    '''\n",
    "    '''\n",
    "    \n",
    "    if(digit>0):\n",
    "        rem=digit%10\n",
    "        newd=digit//10\n",
    "        sum=sum+rem\n",
    "        return sum_digit(newd,sum)\n",
    "    return sum"
   ]
  },
  {
   "cell_type": "code",
   "execution_count": 35,
   "metadata": {},
   "outputs": [
    {
     "data": {
      "text/plain": [
       "10"
      ]
     },
     "execution_count": 35,
     "metadata": {},
     "output_type": "execute_result"
    }
   ],
   "source": [
    "sum_digit(4321)"
   ]
  },
  {
   "cell_type": "code",
   "execution_count": 53,
   "metadata": {},
   "outputs": [],
   "source": [
    "\n",
    "def armstrong(digit,new,sum=0):\n",
    "    '''\n",
    "    '''\n",
    "    if(digit>0):\n",
    "        rem=(digit%10)**3\n",
    "        newd=digit//10\n",
    "        sum=sum+rem\n",
    "        return armstrong(newd,new,sum)\n",
    "    \n",
    "    if(new==sum):\n",
    "        return True\n",
    "    else:\n",
    "        return False\n",
    "        \n"
   ]
  },
  {
   "cell_type": "code",
   "execution_count": 54,
   "metadata": {},
   "outputs": [
    {
     "data": {
      "text/plain": [
       "True"
      ]
     },
     "execution_count": 54,
     "metadata": {},
     "output_type": "execute_result"
    }
   ],
   "source": [
    "armstrong(370,370,sum=0)"
   ]
  },
  {
   "cell_type": "code",
   "execution_count": 55,
   "metadata": {},
   "outputs": [
    {
     "data": {
      "text/plain": [
       "False"
      ]
     },
     "execution_count": 55,
     "metadata": {},
     "output_type": "execute_result"
    }
   ],
   "source": [
    "armstrong(32,370,sum=0)"
   ]
  },
  {
   "cell_type": "code",
   "execution_count": 68,
   "metadata": {},
   "outputs": [],
   "source": [
    "def gcd(a,b):\n",
    "    '''\n",
    "    '''\n",
    "    if(a==0):\n",
    "        return b\n",
    "    g=gcd(b%a,a)\n",
    "    if(g==1):\n",
    "        return True\n",
    "    return False"
   ]
  },
  {
   "cell_type": "code",
   "execution_count": 72,
   "metadata": {},
   "outputs": [
    {
     "data": {
      "text/plain": [
       "False"
      ]
     },
     "execution_count": 72,
     "metadata": {},
     "output_type": "execute_result"
    }
   ],
   "source": [
    "gcd(2,4)"
   ]
  },
  {
   "cell_type": "code",
   "execution_count": 9,
   "metadata": {},
   "outputs": [],
   "source": [
    "def Sqrt(x) : \n",
    "  \n",
    "   \n",
    "    if (x == 0 or x == 1) : \n",
    "        return x \n",
    "   \n",
    "    start = 1\n",
    "    end = x    \n",
    "    while (start <= end) : \n",
    "        mid = (start + end) / 2\n",
    "          \n",
    "       \n",
    "        if (mid== x) : \n",
    "            return mid \n",
    "              \n",
    "        \n",
    "        if (mid  < x) : \n",
    "            start = mid + 1\n",
    "            ans = mid \n",
    "              \n",
    "        else : \n",
    "              \n",
    "            \n",
    "            end = mid-1\n",
    "              \n",
    "    return ans "
   ]
  },
  {
   "cell_type": "code",
   "execution_count": 10,
   "metadata": {},
   "outputs": [
    {
     "data": {
      "text/plain": [
       "1.5"
      ]
     },
     "execution_count": 10,
     "metadata": {},
     "output_type": "execute_result"
    }
   ],
   "source": [
    "Sqrt(2)"
   ]
  },
  {
   "cell_type": "code",
   "execution_count": 12,
   "metadata": {},
   "outputs": [
    {
     "data": {
      "text/plain": [
       "35"
      ]
     },
     "execution_count": 12,
     "metadata": {},
     "output_type": "execute_result"
    }
   ],
   "source": [
    "def mul(a,b,sum=0):\n",
    "    '''\n",
    "    '''\n",
    "    if(b>0):\n",
    "        sum=sum+a\n",
    "        b=b-1\n",
    "        return mul(a,b,sum)\n",
    "    return sum\n",
    "mul(7,5)"
   ]
  },
  {
   "cell_type": "code",
   "execution_count": 15,
   "metadata": {},
   "outputs": [
    {
     "name": "stdout",
     "output_type": "stream",
     "text": [
      "47.33333333296433 6\n"
     ]
    }
   ],
   "source": [
    "num=72958476\n",
    "a,b=0,0\n",
    "while(num>0):\n",
    "    digit=num%10\n",
    "    if(digit % 2!=0):\n",
    "        a+=digit\n",
    "    else:\n",
    "        b+=digit\n",
    "    num /=10\n",
    "print(a,b)"
   ]
  },
  {
   "cell_type": "code",
   "execution_count": 1,
   "metadata": {},
   "outputs": [
    {
     "name": "stdout",
     "output_type": "stream",
     "text": [
      "* * * * * * * * * \n",
      "  *           *\n",
      "    *       *\n",
      "      *   *\n",
      "        *\n"
     ]
    }
   ],
   "source": [
    "def main():\n",
    "    n = 5\n",
    "    total = 1+(n-1)*2\n",
    "    i = 0\n",
    "    while i < total:\n",
    "        print(\"*\",end=\" \")\n",
    "        i += 1\n",
    "    print()\n",
    "    for i in range(1,n-1):\n",
    "        print(\"  \"*i,end='')\n",
    "        print(\"*\",end='')\n",
    "        print(\"  \"*(total-(2*(i+1))),end='')\n",
    "        print(\" *\")\n",
    "    i = 0\n",
    "    while i < (total-1)/2:\n",
    "        print(\"  \",end='')\n",
    "        i += 1\n",
    "    if n is not 1:\n",
    "        print(\"*\")\n",
    "    \n",
    "\n",
    "if __name__==\"__main__\":\n",
    "    main()"
   ]
  },
  {
   "cell_type": "code",
   "execution_count": 2,
   "metadata": {},
   "outputs": [
    {
     "name": "stdout",
     "output_type": "stream",
     "text": [
      "* * * * * * * \n",
      "  * * * * * \n",
      "    * * * \n",
      "      *\n"
     ]
    }
   ],
   "source": [
    "def main():\n",
    "    n = 4\n",
    "    total = 1+(n-1)*2\n",
    "    i = 0\n",
    "    while i < total:\n",
    "        print(\"* \",end=\"\")\n",
    "        i += 1\n",
    "    print()\n",
    "    for i in range(1,n-1):\n",
    "        print(\"  \"*i,end='')\n",
    "        print(\"* \"*(total-(2*i)))\n",
    "    i = 0\n",
    "    while i < (total-1)/2:\n",
    "        print(\"  \",end='')\n",
    "        i += 1\n",
    "    if n is not 1:\n",
    "        print(\"*\")\n",
    "    \n",
    "\n",
    "if __name__==\"__main__\":\n",
    "    main()\n"
   ]
  },
  {
   "cell_type": "code",
   "execution_count": 7,
   "metadata": {},
   "outputs": [
    {
     "name": "stdout",
     "output_type": "stream",
     "text": [
      "Enter number of rows : 5\n",
      "    *\n",
      "   ***\n",
      "  *****\n",
      " *******\n",
      "*********\n",
      " *******\n",
      "  *****\n",
      "   ***\n",
      "    *\n"
     ]
    }
   ],
   "source": [
    "def pyramid(rows):\n",
    "    for i  in range(rows):\n",
    "        print(\" \"*(rows-i-1)+\"*\"*(2*i+1))\n",
    "    for j in range(rows-1,0,-1):\n",
    "        print(\" \"*(rows-j)+\"*\"*(2*j-1))\n",
    "\n",
    "rows = int(input(\"Enter number of rows : \").strip())\n",
    "pyramid(rows)\n",
    "    "
   ]
  },
  {
   "cell_type": "code",
   "execution_count": 9,
   "metadata": {},
   "outputs": [
    {
     "name": "stdout",
     "output_type": "stream",
     "text": [
      " *******\n",
      "  *****\n",
      "   ***\n",
      "    *\n"
     ]
    }
   ],
   "source": [
    "def p(rows):\n",
    "    for j in range(rows-1,0,-1):\n",
    "        print(\" \"*(rows-j)+\"*\"*(2*j-1))\n",
    "p(5)"
   ]
  },
  {
   "cell_type": "code",
   "execution_count": 1,
   "metadata": {},
   "outputs": [],
   "source": [
    "def printPattern(n) : \n",
    "    k = 0; \n",
    "  \n",
    "    # Print upper triangle \n",
    "    for i in range(1,n+1) : \n",
    "  \n",
    "        # Print spaces \n",
    "        for j in range(1,n-i+1) : \n",
    "            print(\" \",end=\"\") \n",
    "              \n",
    "        # Print # \n",
    "        while (k != (2 * i - 1)) : \n",
    "            if (k == 0 or k == 2 * i - 2) : \n",
    "                print(\"#\",end=\"\") \n",
    "            else : \n",
    "                print(\" \",end=\"\") \n",
    "            k = k + 1\n",
    "              \n",
    "        k = 0\n",
    "  \n",
    "        # move to next row \n",
    "        print(\"\"), \n",
    "      \n",
    "    n = n - 1\n",
    "  \n",
    "    # Print lower triangle \n",
    "    for i in range (n,0,-1) : \n",
    "        # Print spaces \n",
    "        for j in range(0,n-i+1) : \n",
    "            print(\" \",end=\"\") \n",
    "              \n",
    "        # Print # \n",
    "        k = 0\n",
    "        while (k != (2 * i - 1)) : \n",
    "            if (k == 0 or k == 2 * i - 2) : \n",
    "                print(\"#\",end=\"\") \n",
    "            else : \n",
    "                print(\" \",end=\"\") \n",
    "            k = k + 1\n",
    "          \n",
    "        print(\"\"), "
   ]
  },
  {
   "cell_type": "code",
   "execution_count": 2,
   "metadata": {},
   "outputs": [
    {
     "name": "stdout",
     "output_type": "stream",
     "text": [
      "    #\n",
      "   # #\n",
      "  #   #\n",
      " #     #\n",
      "#       #\n",
      " #     #\n",
      "  #   #\n",
      "   # #\n",
      "    #\n"
     ]
    }
   ],
   "source": [
    "\n",
    "\n",
    "\n"
   ]
  },
  {
   "cell_type": "code",
   "execution_count": 3,
   "metadata": {},
   "outputs": [
    {
     "name": "stdout",
     "output_type": "stream",
     "text": [
      "###########\n",
      " #       #\n",
      "  #     #\n",
      "   #   #\n",
      "    # #\n",
      "     #\n"
     ]
    }
   ],
   "source": [
    "def printPattern(n) : \n",
    "      \n",
    "    for i in range(1,n+1) : \n",
    "          \n",
    "        # Print spaces \n",
    "        for j in range(1,i) : \n",
    "            print (\" \",end=\"\") \n",
    "              \n",
    "        # Print hollow inverted pyramid \n",
    "        for j in range(1,(n * 2 - (2 * i - 1))  \n",
    "                                       +1) : \n",
    "            if (i == 1 or j == 1 or \n",
    "               j == (n * 2 - (2 * i - 1))) : \n",
    "                print (\"#\", end=\"\")  \n",
    "            else : \n",
    "                print(\" \", end=\"\")  \n",
    "                  \n",
    "        # next line \n",
    "        print (\"\"), \n",
    "  \n",
    "# Driver code \n",
    "n = 6\n",
    "printPattern(n) "
   ]
  },
  {
   "cell_type": "code",
   "execution_count": null,
   "metadata": {},
   "outputs": [],
   "source": []
  }
 ],
 "metadata": {
  "kernelspec": {
   "display_name": "Python 3",
   "language": "python",
   "name": "python3"
  },
  "language_info": {
   "codemirror_mode": {
    "name": "ipython",
    "version": 3
   },
   "file_extension": ".py",
   "mimetype": "text/x-python",
   "name": "python",
   "nbconvert_exporter": "python",
   "pygments_lexer": "ipython3",
   "version": "3.7.4"
  }
 },
 "nbformat": 4,
 "nbformat_minor": 2
}
