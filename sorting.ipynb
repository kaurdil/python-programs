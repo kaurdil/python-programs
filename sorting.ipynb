{
 "cells": [
  {
   "cell_type": "code",
   "execution_count": 1,
   "metadata": {},
   "outputs": [
    {
     "name": "stdout",
     "output_type": "stream",
     "text": [
      "[11, 12, 22, 25, 64]\n"
     ]
    }
   ],
   "source": [
    "def selection(list, i, j, flag):\n",
    "    size = len(list)\n",
    "    if (i < size - 1):\n",
    "        if (flag):\n",
    "            j = i + 1;\n",
    "        if (j < size):\n",
    "            if (list[i] > list[j]):\n",
    "            \tlist[i], list[j] = list[j], list[i]\n",
    "            selection(list, i, j + 1, 0);\n",
    "        selection(list, i + 1, 0, 1);\n",
    "    # print(list)\n",
    "\n",
    "list = [64,25,12,22,11]\n",
    "selection(list, 0, 0, 1)\n",
    "print(list)"
   ]
  },
  {
   "cell_type": "code",
   "execution_count": 23,
   "metadata": {},
   "outputs": [
    {
     "data": {
      "text/plain": [
       "[5, 10, 20, 30, 40]"
      ]
     },
     "execution_count": 23,
     "metadata": {},
     "output_type": "execute_result"
    }
   ],
   "source": [
    "def insort(mylist,index=1,count=0):\n",
    "    '''\n",
    "    objective:= To sort the unsorted list using recursion\n",
    "    inputs:\n",
    "       mylist: An unsorted list\n",
    "       index: initial index of te list\n",
    "    return values:\n",
    "       mylist: a sorted list\n",
    "   '''\n",
    "    length=len(mylist)\n",
    "    if(index!=length):\n",
    "        if(count!=(index)):\n",
    "            if(mylist[count]<mylist[index]):\n",
    "                return insort(mylist,index,count+1)\n",
    "            elif(mylist[count]>mylist[index]):\n",
    "                mylist.insert(count,mylist.pop(index))\n",
    "                return insort(mylist,index+1,count=0)\n",
    "        else:\n",
    "            return insort(mylist,index+1,count=0)\n",
    "    else:\n",
    "         return mylist\n",
    "\n",
    "            \n",
    "insort([30,40,10,20,5])"
   ]
  },
  {
   "cell_type": "code",
   "execution_count": 5,
   "metadata": {},
   "outputs": [],
   "source": [
    "def bubble(mylist, index, j):\n",
    "    '''\n",
    "     objective:- to put the lightest element in the last pos\n",
    "     inputs:\n",
    "     mylist:- a single list\n",
    "     i=index of the list\n",
    "     j= max length\n",
    "     return values:-\n",
    "     lightest element at the last pos\n",
    "    '''\n",
    "    if(index!=j):\n",
    "        if(mylist[index]>mylist[index+1]):\n",
    "                temp=mylist[index+1]\n",
    "                mylist[index+1]=mylist[index]\n",
    "                mylist[index]=temp\n",
    "                index=index+1\n",
    "                bubble(mylist,index,j)\n",
    "        else:\n",
    "                index=index+1\n",
    "                bubble(mylist,index,j)\n",
    "    return mylist\n",
    "\n",
    "#BUBBLE SORT FUNCTION\n",
    " \n",
    "def bubble_sort(mylist, index, j):\n",
    "    '''\n",
    "    objective:- to sort the element using recursive bubble \n",
    "    Inputs:-\n",
    "    mylist=a single list\n",
    "    i=index of the list\n",
    "    j= max length\n",
    "    return values:-\n",
    "    a sorted list\n",
    "   '''\n",
    "    if(index==j):\n",
    "        return mylist\n",
    "\n",
    "\n",
    "    else:\n",
    "        bubble(mylist,index,j)\n",
    "        return bubble_sort(mylist,index,j-1)"
   ]
  },
  {
   "cell_type": "code",
   "execution_count": 6,
   "metadata": {},
   "outputs": [
    {
     "data": {
      "text/plain": [
       "[4, 6, 12, 28, 36, 70]"
      ]
     },
     "execution_count": 6,
     "metadata": {},
     "output_type": "execute_result"
    }
   ],
   "source": [
    "bubble_sort([28,6,12,36,4,70],0,5)"
   ]
  },
  {
   "cell_type": "code",
   "execution_count": 31,
   "metadata": {},
   "outputs": [
    {
     "data": {
      "text/plain": [
       "6"
      ]
     },
     "execution_count": 31,
     "metadata": {},
     "output_type": "execute_result"
    }
   ],
   "source": [
    "def linear(l,i,index=0):\n",
    "    '''\n",
    "    '''\n",
    "    if(len(l)!=index):\n",
    "        if(l[index]==i):\n",
    "                return index\n",
    "        else:\n",
    "            return linear(l,i,index+1)\n",
    "    return index\n",
    "linear([28,6,12,36,4,70],2,index=0)"
   ]
  },
  {
   "cell_type": "code",
   "execution_count": 38,
   "metadata": {},
   "outputs": [],
   "source": [
    "def binarySearch (arr, l, r, x): \n",
    "  \n",
    "    # Check base case \n",
    "    if r >= l: \n",
    "  \n",
    "        mid =int( l + (r - l)/2)\n",
    "  \n",
    "        # If element is present at the middle itself \n",
    "        if arr[mid] == x: \n",
    "            return mid \n",
    "          \n",
    "        # If element is smaller than mid, then it can only \n",
    "        # be present in left subarray \n",
    "        elif arr[mid] > x: \n",
    "            return binarySearch(arr, l, mid-1, x) \n",
    "  \n",
    "        # Else the element can only be present in right subarray \n",
    "        else: \n",
    "            return binarySearch(arr, mid+1, r, x) \n",
    "  \n",
    "    else: \n",
    "        # Element is not present in the array \n",
    "        return -1\n"
   ]
  },
  {
   "cell_type": "code",
   "execution_count": 39,
   "metadata": {},
   "outputs": [
    {
     "data": {
      "text/plain": [
       "-1"
      ]
     },
     "execution_count": 39,
     "metadata": {},
     "output_type": "execute_result"
    }
   ],
   "source": [
    "arr = [ 2, 3, 4, 10, 40 ] \n",
    "x = 10\n",
    "result=binarySearch (arr, 0, len(arr)-1, 70)\n",
    "result\n"
   ]
  },
  {
   "cell_type": "code",
   "execution_count": 46,
   "metadata": {},
   "outputs": [],
   "source": [
    "def left(li,n):\n",
    "    '''\n",
    "    '''\n",
    "    if(n>0):\n",
    "        li.insert(0,li.pop())\n",
    "        return left(li,n-1)\n",
    "    return li"
   ]
  },
  {
   "cell_type": "code",
   "execution_count": 47,
   "metadata": {},
   "outputs": [
    {
     "data": {
      "text/plain": [
       "[2, 3, 4, 5, 1]"
      ]
     },
     "execution_count": 47,
     "metadata": {},
     "output_type": "execute_result"
    }
   ],
   "source": [
    "left([1,2,3,4,5],4)"
   ]
  },
  {
   "cell_type": "code",
   "execution_count": null,
   "metadata": {},
   "outputs": [],
   "source": []
  }
 ],
 "metadata": {
  "kernelspec": {
   "display_name": "Python 3",
   "language": "python",
   "name": "python3"
  },
  "language_info": {
   "codemirror_mode": {
    "name": "ipython",
    "version": 3
   },
   "file_extension": ".py",
   "mimetype": "text/x-python",
   "name": "python",
   "nbconvert_exporter": "python",
   "pygments_lexer": "ipython3",
   "version": "3.7.4"
  }
 },
 "nbformat": 4,
 "nbformat_minor": 2
}
