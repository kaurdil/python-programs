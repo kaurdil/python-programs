{
 "cells": [
  {
   "cell_type": "code",
   "execution_count": 20,
   "metadata": {},
   "outputs": [
    {
     "data": {
      "text/plain": [
       "True"
      ]
     },
     "execution_count": 20,
     "metadata": {},
     "output_type": "execute_result"
    }
   ],
   "source": [
    "def anagram(s1,s2,i=0,j=0):\n",
    "    '''\n",
    "    '''\n",
    "    if(len(s2)!=i):\n",
    "        s3=list(s1)\n",
    "        s4=list(s2)\n",
    "        if(len(s3)==len(s4)):\n",
    "                if(len(s4)!=j):\n",
    "                    if(s3[i]==s4[j]):\n",
    "                            c1=s3.count(s3[i])\n",
    "                            c2=s4.count(s4[j])\n",
    "                            if(c1==c2):\n",
    "                                    return anagram(s1,s2,i+1,j=0)\n",
    "                            else:\n",
    "                                    return False\n",
    "                    else:\n",
    "                             return anagram(s1,s2,i,j+1)\n",
    "                return anagram(s1,s2,i+1,j=0)\n",
    "        return False\n",
    "    \n",
    "    return True \n",
    "anagram('rail safety','fairy tales',i=0)"
   ]
  },
  {
   "cell_type": "code",
   "execution_count": 24,
   "metadata": {},
   "outputs": [
    {
     "data": {
      "text/plain": [
       "False"
      ]
     },
     "execution_count": 24,
     "metadata": {},
     "output_type": "execute_result"
    }
   ],
   "source": [
    "anagram('rama','ama',i=0)"
   ]
  },
  {
   "cell_type": "code",
   "execution_count": 40,
   "metadata": {},
   "outputs": [
    {
     "name": "stdout",
     "output_type": "stream",
     "text": [
      "['Good', 'Morning.', 'Have', 'a', 'Good', 'Day!!']\n",
      "('Good Morning', '.', ' Have a Good Day!!')\n"
     ]
    }
   ],
   "source": [
    "greeting='Good Morning. Have a Good Day!!'\n",
    "x=greeting.count('Good')\n",
    "x\n",
    "y=greeting.find('a')\n",
    "y\n",
    "z=greeting.rfind('a')\n",
    "z\n",
    "k=greeting.capitalize()\n",
    "k\n",
    "m=greeting.lower()\n",
    "m\n",
    "l=greeting.upper()\n",
    "l\n",
    "x=greeting.swapcase()\n",
    "x\n",
    "j=greeting.istitle()\n",
    "j\n",
    "n=greeting.replace('Good','Sweet')\n",
    "n\n",
    "e=greeting.strip()\n",
    "e\n",
    "w=greeting.split()\n",
    "print(w)\n",
    "q=greeting.partition('.')\n",
    "print(q)\n",
    "a=greeting.startswith('good')\n",
    "a\n",
    "b=greeting.endswith('!!')\n",
    "\n",
    "\n"
   ]
  },
  {
   "cell_type": "code",
   "execution_count": null,
   "metadata": {},
   "outputs": [],
   "source": []
  },
  {
   "cell_type": "code",
   "execution_count": 9,
   "metadata": {},
   "outputs": [
    {
     "data": {
      "text/plain": [
       "5"
      ]
     },
     "execution_count": 9,
     "metadata": {},
     "output_type": "execute_result"
    }
   ],
   "source": [
    "def matchchar(str1,str2):\n",
    "    t1=str1.lower()\n",
    "    t2=str2.lower()\n",
    "    l1=list(t1)\n",
    "    if(l1==[]):\n",
    "        return 0\n",
    "    elif(l1[0] in t2):\n",
    "        c=t2.count(l1[0])\n",
    "        m=str1[1:]\n",
    "        return c+matchchar(m,str2)\n",
    "matchchar('Ram','maram')\n"
   ]
  },
  {
   "cell_type": "code",
   "execution_count": 25,
   "metadata": {},
   "outputs": [],
   "source": [
    "def commonchar(str1,str2):\n",
    "    '''\n",
    "    '''\n",
    "    l1=list(str1)\n",
    "    str=\"\"\n",
    "    if(l1==[]):\n",
    "        return 0\n",
    "    elif(l1[0] in str2):\n",
    "        c=str1.count(l1[0])\n",
    "        if(c>1 or c==0):\n",
    "             k=0\n",
    "        else:\n",
    "             k=1\n",
    "    else:\n",
    "         k=0\n",
    "    return k+commonchar(str1[1:],str2)"
   ]
  },
  {
   "cell_type": "code",
   "execution_count": 26,
   "metadata": {},
   "outputs": [],
   "source": [
    "def replace_repstr(str,i=0):\n",
    "    '''\n",
    "    '''\n",
    "    if((len(str)-1)!=i):\n",
    "        if(str[i]!=str[i+1]):\n",
    "            return replace_repstr(str,i+1)\n",
    "        else:\n",
    "            str1=list(str)\n",
    "            str1.remove(str1[i+1])\n",
    "            str1.insert(i+1,\"*\")\n",
    "            str=\"\"\n",
    "            str=str.join(str1)\n",
    "            return replace_repstr(str,i+1)\n",
    "        \n",
    "    else:\n",
    "        return str\n"
   ]
  },
  {
   "cell_type": "code",
   "execution_count": 27,
   "metadata": {},
   "outputs": [
    {
     "data": {
      "text/plain": [
       "'bal*o*n'"
      ]
     },
     "execution_count": 27,
     "metadata": {},
     "output_type": "execute_result"
    }
   ],
   "source": [
    "replace_repstr('balloon')"
   ]
  },
  {
   "cell_type": "code",
   "execution_count": 34,
   "metadata": {},
   "outputs": [],
   "source": [
    "def repeat(d,n,sum=0,i=1):\n",
    "    '''\n",
    "    '''\n",
    "    if(n==0):\n",
    "        return sum\n",
    "    else:\n",
    "        nstr=i*str(d)\n",
    "        new_d=int(nstr)\n",
    "        sum=sum+new_d\n",
    "        return repeat(d,n-1,sum,i=i+1)    \n"
   ]
  },
  {
   "cell_type": "code",
   "execution_count": 36,
   "metadata": {},
   "outputs": [
    {
     "data": {
      "text/plain": [
       "246"
      ]
     },
     "execution_count": 36,
     "metadata": {},
     "output_type": "execute_result"
    }
   ],
   "source": [
    "repeat(2,3,sum=0,i=1)"
   ]
  },
  {
   "cell_type": "code",
   "execution_count": 21,
   "metadata": {},
   "outputs": [
    {
     "data": {
      "text/plain": [
       "False"
      ]
     },
     "execution_count": 21,
     "metadata": {},
     "output_type": "execute_result"
    }
   ],
   "source": [
    "adress='B-6, Lodhi road, Delhi'\n",
    "len(adress)\n",
    "#adress[17:-1]\n",
    "#adress[-len(adress):len(adress)]\n",
    "adress[:-12]+adress[-12:]\n",
    "adress.find('delhi')\n",
    "adress.swapcase()\n",
    "adress.split(',')\n",
    "adress.isalpha()"
   ]
  },
  {
   "cell_type": "code",
   "execution_count": 22,
   "metadata": {},
   "outputs": [],
   "source": [
    "def remove_duplicate(l1,i=0):\n",
    "    '''\n",
    "    '''\n",
    "    if(len(l1)==i):\n",
    "        return 0\n",
    "    else:\n",
    "        if(l1.count(l1[i])>1):\n",
    "            l1.remove(l1[i])\n",
    "            remove_duplicate(l1,0)\n",
    "        else:\n",
    "            remove_duplicate(l1,i+1)\n",
    "    return l1\n"
   ]
  },
  {
   "cell_type": "code",
   "execution_count": 37,
   "metadata": {},
   "outputs": [
    {
     "name": "stdout",
     "output_type": "stream",
     "text": [
      "toDay is a gOOd day\n",
      "Today Is A Good Day \n"
     ]
    }
   ],
   "source": [
    "def modify(s):\n",
    "    result = ''\n",
    "    for word in s.split():\n",
    "        word = list(word)\n",
    "\n",
    "        if ord(word[0]) not in range(65,91):\n",
    "            result += chr(ord(word[0])-32)\n",
    "            \n",
    "        for i in range(1,len(word)):\n",
    "            if ord(word[i]) not in range(97,123):\n",
    "                result += chr(ord(word[i])+32)\n",
    "            else:\n",
    "                result += word[i]\n",
    "                \n",
    "        result += ' '\n",
    "    return result\n",
    "\n",
    "def main():\n",
    "    s = \"toDay is a gOOd day\"\n",
    "    print(s)\n",
    "    s = modify(s)\n",
    "    print(s)\n",
    "            \n",
    "if __name__==\"__main__\":\n",
    "    main()\n"
   ]
  },
  {
   "cell_type": "code",
   "execution_count": null,
   "metadata": {},
   "outputs": [],
   "source": [
    "def rever(str,i=0,j=-1):\n",
    " '''\n",
    " '''\n",
    " str2=list(str)\n",
    " if(str2[i]==str2[j]):\n",
    "     return str\n",
    " else:\n",
    "     str2[i],str2[j]=str2[j],str2[i]\n",
    "     str=\"\"\n",
    "     str=str.join(str2)\n",
    "     return rever(str,i+1,j-1)\n"
   ]
  },
  {
   "cell_type": "code",
   "execution_count": 32,
   "metadata": {},
   "outputs": [
    {
     "data": {
      "text/plain": [
       "['I love football',\n",
       " 'I love programming',\n",
       " 'I like football',\n",
       " 'I like programming',\n",
       " 'you love football',\n",
       " 'you love programming',\n",
       " 'you like football',\n",
       " 'you like programming']"
      ]
     },
     "execution_count": 32,
     "metadata": {},
     "output_type": "execute_result"
    }
   ],
   "source": [
    "def sentence(sub,verb,obj,sent,i,j,k):\n",
    "    '''\n",
    "    '''\n",
    "    if(len(sub)!=i):\n",
    "        if(len(verb)!=j):\n",
    "            if(len(obj)!=k):\n",
    "                sent.append(sub[i] +' '+ verb[j]+\" \" + obj[k])  \n",
    "                return sentence(sub,verb,obj,sent,i,j,k+1)\n",
    "            else:\n",
    "                return sentence(sub,verb,obj,sent,i,j+1,k=0)\n",
    "        else:\n",
    "            return sentence(sub,verb,obj,sent,i+1,j=0,k=0)\n",
    "    else:\n",
    "        return sent\n",
    "\n",
    "    \n",
    "sentence(['I','you'],['love','like'],['football','programming'],[],0,0,0)"
   ]
  },
  {
   "cell_type": "code",
   "execution_count": null,
   "metadata": {},
   "outputs": [],
   "source": []
  }
 ],
 "metadata": {
  "kernelspec": {
   "display_name": "Python 3",
   "language": "python",
   "name": "python3"
  },
  "language_info": {
   "codemirror_mode": {
    "name": "ipython",
    "version": 3
   },
   "file_extension": ".py",
   "mimetype": "text/x-python",
   "name": "python",
   "nbconvert_exporter": "python",
   "pygments_lexer": "ipython3",
   "version": "3.7.4"
  }
 },
 "nbformat": 4,
 "nbformat_minor": 2
}
