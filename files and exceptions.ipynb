{
 "cells": [
  {
   "cell_type": "code",
   "execution_count": 6,
   "metadata": {},
   "outputs": [],
   "source": [
    "def Inverse():\n",
    "    try:\n",
    "        num=input(\"enter the no\")\n",
    "        num=float(num)\n",
    "        inverse=1.0/num\n",
    "    except ValueError:\n",
    "        print(\"value error\")\n",
    "    except TypeError:\n",
    "        print(\"Type error\")\n",
    "    except ZeroDivisionError:\n",
    "        print(\"ZeroDivision error\")\n",
    "    except :\n",
    "        print(\"value error\")\n",
    "    else:\n",
    "        print(inverse)\n",
    "    finally:\n",
    "        print('Function completed')\n",
    "                "
   ]
  },
  {
   "cell_type": "code",
   "execution_count": 7,
   "metadata": {},
   "outputs": [
    {
     "name": "stdout",
     "output_type": "stream",
     "text": [
      "enter the no5\n",
      "0.2\n",
      "Function completed\n"
     ]
    }
   ],
   "source": [
    "Inverse()"
   ]
  },
  {
   "cell_type": "code",
   "execution_count": 8,
   "metadata": {},
   "outputs": [
    {
     "name": "stdout",
     "output_type": "stream",
     "text": [
      "enter the no0\n",
      "ZeroDivision error\n",
      "Function completed\n"
     ]
    }
   ],
   "source": [
    "Inverse()"
   ]
  },
  {
   "cell_type": "code",
   "execution_count": 9,
   "metadata": {},
   "outputs": [
    {
     "name": "stdout",
     "output_type": "stream",
     "text": [
      "enter the no2.0\n",
      "0.5\n",
      "Function completed\n"
     ]
    }
   ],
   "source": [
    "Inverse()\n"
   ]
  },
  {
   "cell_type": "code",
   "execution_count": 10,
   "metadata": {},
   "outputs": [
    {
     "name": "stdout",
     "output_type": "stream",
     "text": [
      "enter the nox\n",
      "value error\n",
      "Function completed\n"
     ]
    }
   ],
   "source": [
    "Inverse()\n"
   ]
  },
  {
   "cell_type": "code",
   "execution_count": 11,
   "metadata": {},
   "outputs": [
    {
     "name": "stdout",
     "output_type": "stream",
     "text": [
      "enter the noNone\n",
      "value error\n",
      "Function completed\n"
     ]
    }
   ],
   "source": [
    "Inverse()"
   ]
  },
  {
   "cell_type": "code",
   "execution_count": 12,
   "metadata": {},
   "outputs": [],
   "source": [
    "def percentage(marks, total):\n",
    "    try:\n",
    "        percent=(marks/total)*100\n",
    "    except ValueError:\n",
    "        print('ValueError')\n",
    "    except TypeError:\n",
    "        print('TypeError')\n",
    "    except ZeroDivisionError:\n",
    "        print('ZeroDivisionError')\n",
    "    except:\n",
    "        print('any other Error')\n",
    "    else:\n",
    "        print(percent)\n",
    "    finally:\n",
    "        print('function percentage completed')\n",
    "    "
   ]
  },
  {
   "cell_type": "code",
   "execution_count": 13,
   "metadata": {},
   "outputs": [
    {
     "name": "stdout",
     "output_type": "stream",
     "text": [
      "75.0\n",
      "function percentage completed\n"
     ]
    }
   ],
   "source": [
    "percentage(150.0, 200.0)"
   ]
  },
  {
   "cell_type": "code",
   "execution_count": 14,
   "metadata": {},
   "outputs": [
    {
     "name": "stdout",
     "output_type": "stream",
     "text": [
      "ZeroDivisionError\n",
      "function percentage completed\n"
     ]
    }
   ],
   "source": [
    "percentage(150.0, 0.0)"
   ]
  },
  {
   "cell_type": "code",
   "execution_count": 15,
   "metadata": {},
   "outputs": [
    {
     "name": "stdout",
     "output_type": "stream",
     "text": [
      "TypeError\n",
      "function percentage completed\n"
     ]
    }
   ],
   "source": [
    "percentage('150.0', '200.0')"
   ]
  },
  {
   "cell_type": "code",
   "execution_count": 16,
   "metadata": {},
   "outputs": [
    {
     "name": "stdout",
     "output_type": "stream",
     "text": [
      "input output\n"
     ]
    }
   ],
   "source": [
    "try:\n",
    "    f=open('file1.txt','r')\n",
    "except IOError:\n",
    "    print(\"input output\")\n",
    "else:\n",
    "    print(\"no problem\")\n"
   ]
  },
  {
   "cell_type": "code",
   "execution_count": 18,
   "metadata": {},
   "outputs": [
    {
     "name": "stdout",
     "output_type": "stream",
     "text": [
      "no problem\n"
     ]
    }
   ],
   "source": [
    "try:\n",
    "    f=open('file1.txt','w')\n",
    "except IOError:\n",
    "    print(\"input output\")\n",
    "else:\n",
    "    print(\"no problem\")\n"
   ]
  },
  {
   "cell_type": "code",
   "execution_count": 22,
   "metadata": {},
   "outputs": [
    {
     "name": "stdout",
     "output_type": "stream",
     "text": [
      "Enter the source file name: student.txt\n",
      "Enter the destination file name : file1.txt\n"
     ]
    }
   ],
   "source": [
    "'''\n",
    "Write a function that takes two file names, file1 and file2 as input. The function should\n",
    "read the contents of the file file1 line by line and should write them to another file file2\n",
    "after adding a newline at the end of each line.\n",
    "'''\n",
    "\n",
    "def fileCopy(file1,file2):\n",
    "    '''\n",
    "    Objective: To copy the content of file1 to file2 line by line while adding\n",
    "    a newline at the end of each line\n",
    "    Input Parameters: file1,file2 : file names - string value\n",
    "    Return Value: None\n",
    "    '''\n",
    "    '''\n",
    "    Approach:\n",
    "    Read input from file1, line by line and copy to file2 after adding newline\n",
    "    at the end of each line until null string is returned on reading\n",
    "    '''\n",
    "    f1 = open(file1, 'r')\n",
    "    f2 = open(file2, 'w')\n",
    "    line = f1.readline()\n",
    "    while line != '':\n",
    "        f2.write(line+'\\n') #write the line from f1 with additional newline\n",
    "        line = f1.readline()\n",
    "    f1.close()\n",
    "    f2.close()\n",
    "\n",
    "def main():\n",
    "    '''\n",
    "    Objective: To call function fileCopy to copy contents in a file to another file.\n",
    "    Input Parameter: None\n",
    "    Return Value: None\n",
    "    '''\n",
    "    fileName1=input('Enter the source file name: ')\n",
    "    fileName2=input('Enter the destination file name : ')\n",
    "    fileCopy(fileName1, fileName2)\n",
    "if __name__ == '__main__':\n",
    "    main()\n",
    "    \n"
   ]
  },
  {
   "cell_type": "code",
   "execution_count": 10,
   "metadata": {},
   "outputs": [
    {
     "name": "stdout",
     "output_type": "stream",
     "text": [
      "Enter the source file name: studentObj.txt\n"
     ]
    }
   ],
   "source": [
    "def countvowel(file1):\n",
    "    '''\n",
    "    '''\n",
    "    f1=open(file1,'r+')\n",
    "    line=f1.readline()\n",
    "    wordcount=0\n",
    "    vowelcount=0\n",
    "    while(line!=''):\n",
    "        sl=list(line)\n",
    "        l=len(sl)\n",
    "        s2=line.split(\" \")\n",
    "        l1=len(s2)\n",
    "        wordcount=wordcount+l1\n",
    "        for i in range(1,l):\n",
    "            if(sl[i]=='a'or sl[i]=='e'or sl[i]=='i' or sl[i]=='o' or sl[i]=='u'):\n",
    "                vowelcount=vowelcount+1\n",
    "       \n",
    "        line=f1.readline()\n",
    "    f1.write(\"vowels:\"+str(vowelcount)+'\\n')\n",
    "    f1.write(\"word:\"+str(wordcount))\n",
    "    \n",
    "    f1.close()\n",
    "def main():\n",
    "    '''\n",
    "    Objective: To call function fileCopy to copy contents in a file to another file.\n",
    "    Input Parameter: None\n",
    "    Return Value: None\n",
    "    '''\n",
    "    fileName1=input('Enter the source file name: ')\n",
    "    \n",
    "    countvowel(fileName1)\n",
    "if __name__ == '__main__':\n",
    "    main()\n",
    "     \n",
    "            "
   ]
  },
  {
   "cell_type": "code",
   "execution_count": 8,
   "metadata": {},
   "outputs": [
    {
     "name": "stdout",
     "output_type": "stream",
     "text": [
      "Enter the destination file name : student.txt\n",
      "Please enter the data to be stored in file ' student.txt ' : \n",
      "\n",
      "The file is successfully created!!\n"
     ]
    }
   ],
   "source": [
    "'''\n",
    "Program that takes data to be stored in the file file1 as interactive input from the\n",
    "user until he responds with nothing as input. Each line (or paragraph) taken as input from\n",
    "the user should be capitalized, and stored in the file file1.\n",
    "'''\n",
    "\n",
    "def takeFileInput(file1):\n",
    "    '''\n",
    "    Obective: To take data to be stored in the file file1 interactively from the user and capitalize it\n",
    "    until (s)he responds with empty string\n",
    "    Input Parameter: file1 : output file name - string value\n",
    "    Return Value: None\n",
    "    '''\n",
    "    '''\n",
    "    Approach:\n",
    "    Iteratively, read lines as input from the user until he responds with nothing\n",
    "    as the input\n",
    "               1.Capitalize each line\n",
    "               2.Add a newline at the end before writing it to file file1\n",
    "    '''\n",
    "    f=open(file1,'w')\n",
    "    print(\"Please enter the data to be stored in file \\'\", file1, \"\\' : \")\n",
    "    line=input()\n",
    "    while line!='':\n",
    "        line=line.capitalize()\n",
    "        f.write(line+'\\n') #add a newline after each insertion\n",
    "        line=input()\n",
    "    print(\"The file is successfully created!!\")\n",
    "    f.close()\n",
    "\n",
    "def main():\n",
    "    '''\n",
    "    Objective: To take data to be stored in the file file1 interactively from the user and capitalize it\n",
    "    until (s)he res\n",
    "    \n",
    "    ponds with empty string\n",
    "    Input Parameter: None\n",
    "    Return Value: None\n",
    "    '''\n",
    "    file=input('Enter the destination file name : ')\n",
    "    takeFileInput(file)\n",
    "if __name__ == '__main__':\n",
    "    main()\n"
   ]
  },
  {
   "cell_type": "code",
   "execution_count": 56,
   "metadata": {},
   "outputs": [
    {
     "name": "stdout",
     "output_type": "stream",
     "text": [
      "Enter the destination file name : student.txt\n",
      "this World Is beautifull\n",
      "Umbrella and apple are beautifullchar 57\n",
      "blank 0\n",
      "lower 58\n",
      "upper 58\n",
      "vowel 19\n",
      "0\n"
     ]
    }
   ],
   "source": [
    " def countvw(file1):\n",
    "        '''\n",
    "        '''\n",
    "        f1=open(file1,'r+')\n",
    "        line=f1.read()\n",
    "        no=0\n",
    "        blank=0\n",
    "        lower=0\n",
    "        upper=0\n",
    "        vowel=0\n",
    "        c=0\n",
    "        for i in range(0,len(line)):\n",
    "            str=line[i]\n",
    "            st=str.split()\n",
    "            sp=list(str)\n",
    "            for j in range(len(sp)):\n",
    "                if(sp[j]!='' and sp[j]!='\\n'):\n",
    "                    no=no+1\n",
    "                   \n",
    "            for j in range(len(sp)):   \n",
    "                 if (sp[j]==''):\n",
    "                    blank=blank+1\n",
    "            for j in range(len(sp)):\n",
    "                if(sp[j]>'a' or sp[j]<'z'):\n",
    "                    lower+=1\n",
    "                    \n",
    "            for j in range(len(sp)):\n",
    "                if(sp[j]>'A' or sp[j]<'Z'):\n",
    "                    upper+=1\n",
    "                    \n",
    "            for j in range(len(st)):\n",
    "                slist=list(st[j])\n",
    "                for k in range(len(slist)):\n",
    "                    if(slist[0]=='a' or slist[0]=='e' or slist[0]=='i'or slist[0]=='o'or slist[0]=='u'):\n",
    "                           vowel+=1\n",
    "            for j in range(len(st)):\n",
    "                if(st[j]==\"beautifull\"):\n",
    "                    c+=1\n",
    "            print(line[i],end=\"\")\n",
    "        print(\"char\",no)\n",
    "        print(\"blank\",blank)\n",
    "        print(\"lower\",lower)\n",
    "        print(\"upper\",upper)\n",
    "        print(\"vowel\",vowel)\n",
    "        print(c)   \n",
    "def main():\n",
    "    '''\n",
    "    Objective: To take data to be stored in the file file1 interactively from the user and capitalize it\n",
    "    until (s)he res\n",
    "    \n",
    "    ponds with empty string\n",
    "    Input Parameter: None\n",
    "    Return Value: None\n",
    "    '''\n",
    "    file=input('Enter the destination file name : ')\n",
    "    countvw(file)\n",
    "if __name__ == '__main__':\n",
    "          main()\n",
    "\n",
    "                               \n",
    "                \n",
    "            \n",
    "            \n",
    "            "
   ]
  },
  {
   "cell_type": "code",
   "execution_count": 4,
   "metadata": {},
   "outputs": [
    {
     "name": "stdout",
     "output_type": "stream",
     "text": [
      "Enter the source file name: student.txt\n",
      "Enter the destination file name : line.txt\n"
     ]
    }
   ],
   "source": [
    "\n",
    "def line(file1,file2,file3):\n",
    "    '''\n",
    "    Objective: To copy the content of file1 to file2 line by line while adding\n",
    "    a newline at the end of each line\n",
    "    Input Parameters: file1,file2 : file names - string value\n",
    "    Return Value: None\n",
    "    '''\n",
    "    '''\n",
    "    Approach:\n",
    "    Read input from file1, line by line and copy to file2 after adding newline\n",
    "    at the end of each line until null string is returned on reading\n",
    "    '''\n",
    "    f1 = open(file1, 'r')\n",
    "    f2 = open(file2, 'w')\n",
    "    line = f1.readline()\n",
    "    c=0\n",
    "    while(line!=''):\n",
    "        c=c+1\n",
    "        if(c%2!=0):\n",
    "            f2.write(line)\n",
    "        line=f1.readline()\n",
    "        \n",
    "        \n",
    "    f1.close()\n",
    "    f2.close()\n",
    "def main():\n",
    "    '''\n",
    "    Objective: To call function fileCopy to copy contents in a file to another file.\n",
    "    Input Parameter: None\n",
    "    Return Value: None\n",
    "    '''\n",
    "    fileName1=input('Enter the source file name: ')\n",
    "    fileName2=input('Enter the destination file name : ')\n",
    "    Copylines(fileName1, fileName2)\n",
    "if __name__ == '__main__':\n",
    "    main()"
   ]
  },
  {
   "cell_type": "code",
   "execution_count": 15,
   "metadata": {},
   "outputs": [
    {
     "name": "stdout",
     "output_type": "stream",
     "text": [
      "Enter the source file name: student.txt\n",
      "Enter the destination file name : studentObj.txt\n",
      "Enter the destination file name : price.txt\n"
     ]
    },
    {
     "ename": "ValueError",
     "evalue": "invalid literal for int() with base 10: 'this'",
     "output_type": "error",
     "traceback": [
      "\u001b[1;31m---------------------------------------------------------------------------\u001b[0m",
      "\u001b[1;31mValueError\u001b[0m                                Traceback (most recent call last)",
      "\u001b[1;32m<ipython-input-15-46ad4f8f1070>\u001b[0m in \u001b[0;36m<module>\u001b[1;34m\u001b[0m\n\u001b[0;32m     38\u001b[0m     \u001b[0mlines\u001b[0m\u001b[1;33m(\u001b[0m\u001b[0mfileName1\u001b[0m\u001b[1;33m,\u001b[0m \u001b[0mfileName2\u001b[0m\u001b[1;33m,\u001b[0m \u001b[0mfileName3\u001b[0m\u001b[1;33m)\u001b[0m\u001b[1;33m\u001b[0m\u001b[1;33m\u001b[0m\u001b[0m\n\u001b[0;32m     39\u001b[0m \u001b[1;32mif\u001b[0m \u001b[0m__name__\u001b[0m \u001b[1;33m==\u001b[0m \u001b[1;34m'__main__'\u001b[0m\u001b[1;33m:\u001b[0m\u001b[1;33m\u001b[0m\u001b[1;33m\u001b[0m\u001b[0m\n\u001b[1;32m---> 40\u001b[1;33m     \u001b[0mmain\u001b[0m\u001b[1;33m(\u001b[0m\u001b[1;33m)\u001b[0m\u001b[1;33m\u001b[0m\u001b[1;33m\u001b[0m\u001b[0m\n\u001b[0m",
      "\u001b[1;32m<ipython-input-15-46ad4f8f1070>\u001b[0m in \u001b[0;36mmain\u001b[1;34m()\u001b[0m\n\u001b[0;32m     36\u001b[0m     \u001b[0mfileName2\u001b[0m\u001b[1;33m=\u001b[0m\u001b[0minput\u001b[0m\u001b[1;33m(\u001b[0m\u001b[1;34m'Enter the destination file name : '\u001b[0m\u001b[1;33m)\u001b[0m\u001b[1;33m\u001b[0m\u001b[1;33m\u001b[0m\u001b[0m\n\u001b[0;32m     37\u001b[0m     \u001b[0mfileName3\u001b[0m\u001b[1;33m=\u001b[0m\u001b[0minput\u001b[0m\u001b[1;33m(\u001b[0m\u001b[1;34m'Enter the destination file name : '\u001b[0m\u001b[1;33m)\u001b[0m\u001b[1;33m\u001b[0m\u001b[1;33m\u001b[0m\u001b[0m\n\u001b[1;32m---> 38\u001b[1;33m     \u001b[0mlines\u001b[0m\u001b[1;33m(\u001b[0m\u001b[0mfileName1\u001b[0m\u001b[1;33m,\u001b[0m \u001b[0mfileName2\u001b[0m\u001b[1;33m,\u001b[0m \u001b[0mfileName3\u001b[0m\u001b[1;33m)\u001b[0m\u001b[1;33m\u001b[0m\u001b[1;33m\u001b[0m\u001b[0m\n\u001b[0m\u001b[0;32m     39\u001b[0m \u001b[1;32mif\u001b[0m \u001b[0m__name__\u001b[0m \u001b[1;33m==\u001b[0m \u001b[1;34m'__main__'\u001b[0m\u001b[1;33m:\u001b[0m\u001b[1;33m\u001b[0m\u001b[1;33m\u001b[0m\u001b[0m\n\u001b[0;32m     40\u001b[0m     \u001b[0mmain\u001b[0m\u001b[1;33m(\u001b[0m\u001b[1;33m)\u001b[0m\u001b[1;33m\u001b[0m\u001b[1;33m\u001b[0m\u001b[0m\n",
      "\u001b[1;32m<ipython-input-15-46ad4f8f1070>\u001b[0m in \u001b[0;36mlines\u001b[1;34m(file1, file2, file3)\u001b[0m\n\u001b[0;32m     20\u001b[0m         \u001b[0mweight\u001b[0m\u001b[1;33m=\u001b[0m\u001b[0mint\u001b[0m\u001b[1;33m(\u001b[0m\u001b[0ms1\u001b[0m\u001b[1;33m[\u001b[0m\u001b[1;36m0\u001b[0m\u001b[1;33m]\u001b[0m\u001b[1;33m)\u001b[0m\u001b[1;33m\u001b[0m\u001b[1;33m\u001b[0m\u001b[0m\n\u001b[0;32m     21\u001b[0m         \u001b[0ms2\u001b[0m\u001b[1;33m=\u001b[0m\u001b[0mline1\u001b[0m\u001b[1;33m.\u001b[0m\u001b[0msplit\u001b[0m\u001b[1;33m(\u001b[0m\u001b[1;34m\" \"\u001b[0m\u001b[1;33m)\u001b[0m\u001b[1;33m\u001b[0m\u001b[1;33m\u001b[0m\u001b[0m\n\u001b[1;32m---> 22\u001b[1;33m         \u001b[0mprice\u001b[0m\u001b[1;33m=\u001b[0m\u001b[0mint\u001b[0m\u001b[1;33m(\u001b[0m\u001b[0ms2\u001b[0m\u001b[1;33m[\u001b[0m\u001b[1;36m0\u001b[0m\u001b[1;33m]\u001b[0m\u001b[1;33m)\u001b[0m\u001b[1;33m\u001b[0m\u001b[1;33m\u001b[0m\u001b[0m\n\u001b[0m\u001b[0;32m     23\u001b[0m         \u001b[0mpw\u001b[0m\u001b[1;33m=\u001b[0m\u001b[0mweight\u001b[0m\u001b[1;33m*\u001b[0m\u001b[0mprice\u001b[0m\u001b[1;33m\u001b[0m\u001b[1;33m\u001b[0m\u001b[0m\n\u001b[0;32m     24\u001b[0m         \u001b[0mf3\u001b[0m\u001b[1;33m.\u001b[0m\u001b[0mwrite\u001b[0m\u001b[1;33m(\u001b[0m\u001b[1;34m\"price per unit weight\"\u001b[0m\u001b[1;33m+\u001b[0m\u001b[1;34m\"\\n\"\u001b[0m\u001b[1;33m+\u001b[0m\u001b[0mstr\u001b[0m\u001b[1;33m(\u001b[0m\u001b[0mpw\u001b[0m\u001b[1;33m)\u001b[0m\u001b[1;33m+\u001b[0m\u001b[1;34m\"\\n\"\u001b[0m\u001b[1;33m)\u001b[0m\u001b[1;33m\u001b[0m\u001b[1;33m\u001b[0m\u001b[0m\n",
      "\u001b[1;31mValueError\u001b[0m: invalid literal for int() with base 10: 'this'"
     ]
    }
   ],
   "source": [
    "def lines(file1,file2,file3):\n",
    "    '''\n",
    "    Objective: To copy the content of file1 to file2 line by line while adding\n",
    "    a newline at the end of each line\n",
    "    Input Parameters: file1,file2 : file names - string value\n",
    "    Return Value: None\n",
    "    '''\n",
    "    '''\n",
    "    Approach:\n",
    "    Read input from file1, line by line and copy to file2 after adding newline\n",
    "    at the end of each line until null string is returned on reading\n",
    "    '''\n",
    "    f1 = open(file1, 'r')\n",
    "    f2 = open(file2, 'r')\n",
    "    f3=open(file3,'w')\n",
    "    line = f1.readline()\n",
    "    line1=f2.readline()\n",
    "    while(line!='' and line1!=''):\n",
    "        s1=line.split(\" \")\n",
    "        weight=int(s1[0])\n",
    "        s2=line1.split(\" \")\n",
    "        price=int(s2[0])\n",
    "        pw=weight*price\n",
    "        f3.write(\"price per unit weight\"+\"\\n\"+str(pw)+\"\\n\")\n",
    "   \n",
    "    f1.close()\n",
    "    f2.close()\n",
    "    f3.close()\n",
    "def main():\n",
    "    '''\n",
    "    Objective: To call function fileCopy to copy contents in a file to another file.\n",
    "    Input Parameter: None\n",
    "    Return Value: None\n",
    "    '''\n",
    "    fileName1=input('Enter the source file name: ')\n",
    "    fileName2=input('Enter the destination file name : ')\n",
    "    fileName3=input('Enter the destination file name : ')\n",
    "    lines(fileName1, fileName2, fileName3)\n",
    "if __name__ == '__main__':\n",
    "    main()"
   ]
  },
  {
   "cell_type": "code",
   "execution_count": null,
   "metadata": {},
   "outputs": [],
   "source": []
  },
  {
   "cell_type": "code",
   "execution_count": null,
   "metadata": {},
   "outputs": [],
   "source": []
  }
 ],
 "metadata": {
  "kernelspec": {
   "display_name": "Python 3",
   "language": "python",
   "name": "python3"
  },
  "language_info": {
   "codemirror_mode": {
    "name": "ipython",
    "version": 3
   },
   "file_extension": ".py",
   "mimetype": "text/x-python",
   "name": "python",
   "nbconvert_exporter": "python",
   "pygments_lexer": "ipython3",
   "version": "3.7.4"
  }
 },
 "nbformat": 4,
 "nbformat_minor": 2
}
