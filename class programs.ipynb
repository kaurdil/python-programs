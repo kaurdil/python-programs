{
 "cells": [
  {
   "cell_type": "code",
   "execution_count": null,
   "metadata": {},
   "outputs": [],
   "source": [
    "import sys\n",
    "def computemarks(file1,file2):\n",
    "    '''\n",
    "    Objective:To compute moderated marks of students\n",
    "    Input parameter:file1,file2:file names-string values\n",
    "                    addpercent-numeric value\n",
    "    return Value:None\n",
    "    side effects: A new file - file2 of moderated marks is produced\n",
    "    '''\n",
    "    fIn = open(file1,'r')\n",
    "    fOut = open(file2,'w')\n",
    "    line1 = fIn.readline()\n",
    "    while(line1 !=''):\n",
    "        print(line1)\n",
    "        sList=line1.split(',')\n",
    "        rollno=int(sList[0])\n",
    "        name=sList[1]\n",
    "        marks=float(sList[2])+2.0\n",
    "     \n",
    "        fOut.write(str(rollno) + ',' + name + ',' + str(marks) + '\\n')\n",
    "        print(str(rollno) + ',' + name + ',' + str(marks) + '\\n')\n",
    "        line1=fIn.readline()\n",
    "def main():\n",
    "    '''\n",
    "    Objective:To compute moderated marks based on user\n",
    "    input Parameter: None\n",
    "    return Value:None\n",
    "    '''\n",
    "    import sys\n",
    "\n",
    "    file1 = 'C:\\\\Users\\\\D-17\\\\Documents\\\\result.txt'\n",
    "    file2 = 'C:\\\\Users\\\\D-17\\\\Documents\\\\blankresult.txt'\n",
    "   \n",
    "    computemarks(file1,file2)\n",
    "if __name__=='__main__':\n",
    "    main()"
   ]
  },
  {
   "cell_type": "code",
   "execution_count": 3,
   "metadata": {},
   "outputs": [],
   "source": [
    "#ch-class1\n",
    "class Student:\n",
    "    '''\n",
    "    '''\n",
    "    count=0\n",
    "    def __init__(self,rollno,name,stream,marks=[],percentage=0,grade='',division=''):\n",
    "        self.rollno=rollno\n",
    "        self.name=name\n",
    "        self.marks=marks\n",
    "        self.stream=stream\n",
    "        self.percentage=percentage\n",
    "        self.grade=grade\n",
    "        self.division=division\n",
    "        \n",
    "    def setmarks(self):\n",
    "        subjects=6\n",
    "        marks=[]\n",
    "        for i in range(1,subjects):\n",
    "            score=int(input(\"enter the marks of students::\"+\"-\"+str(i)))\n",
    "            marks.append(score)\n",
    "            self.marks=marks\n",
    "    \n",
    "    def getStream(self):\n",
    "        if(self.stream=='A'):\n",
    "                 stream='Arts'\n",
    "                 self.stream=stream\n",
    "        elif(self.stream=='C'):\n",
    "                stream='Commerce'\n",
    "                self.stream=stream\n",
    "        else:\n",
    "                stream='Science'\n",
    "                self.stream=stream\n",
    "            \n",
    "    \n",
    "    def getpercentage(self):\n",
    "        totalmarks=sum(self.marks)\n",
    "        percentage=(totalmarks/500)*100\n",
    "        self.percentage=percentage\n",
    "    def gradegen(self):\n",
    "        for i in range(1,4):\n",
    "            if(self.marks[i]>=90):\n",
    "                grade ='A'\n",
    "                self.grade=grade\n",
    "            elif(self.marks[i]<90 and self.marks[i]>=80):\n",
    "                grade ='B'\n",
    "                self.grade=grade\n",
    "            elif(self.marks[i]<80 and self.marks[i]>=65):\n",
    "                grade='C'\n",
    "                self.grade=grade\n",
    "            elif(self.marks[i]<=65 and self.marks[i]>=40):\n",
    "                grade=\"D\"\n",
    "                self.grade=grade\n",
    "            else: \n",
    "                grade ='E'\n",
    "                self.grade=grade\n",
    "                \n",
    "    def getdivision(self):\n",
    "        if(self.percentage>=60):\n",
    "                 division ='first'\n",
    "                 self.division=division\n",
    "        elif(self.percentage<60 and  self.percentage>=50):\n",
    "                 division ='second'\n",
    "                 self.division=division\n",
    "        elif(self.percentage<50 and self.percentage>=35):\n",
    "                 division ='third'\n",
    "                 self.division=division\n",
    "       \n",
    "    def __str__(self):\n",
    "        self.setmarks()\n",
    "        self.getStream()\n",
    "        self.gradegen()\n",
    "        self.getpercentage()\n",
    "        self.getdivision()\n",
    "        print(self.rollno,self.name,self.marks,self.stream,self.percentage,self.grade,self.division)     \n",
    "    "
   ]
  },
  {
   "cell_type": "code",
   "execution_count": 90,
   "metadata": {},
   "outputs": [
    {
     "name": "stdout",
     "output_type": "stream",
     "text": [
      "enter the marks of students190\n",
      "enter the marks of students299\n",
      "enter the marks of students390\n",
      "enter the marks of students490\n",
      "enter the marks of students578\n",
      "12 amit [90, 99, 90, 90, 78] Commerce 89.4 A first\n"
     ]
    }
   ],
   "source": [
    "s1=Student(12,'amit','C')\n",
    "Student.__str__(s1)\n"
   ]
  },
  {
   "cell_type": "code",
   "execution_count": 1,
   "metadata": {},
   "outputs": [],
   "source": [
    "# operator(+) overloading, adding two points to get a new point\n",
    "class Point:\n",
    "    '''\n",
    "    '''\n",
    "    def __init__(self,x,y):\n",
    "        self.x=x\n",
    "        self.y=y\n",
    "    def __add__(self,other):\n",
    "        x=self.x+other.x\n",
    "        y=self.y+other.y\n",
    "        return Point(x,y)\n",
    "    def __str__(self):\n",
    "        return str((self.x,self.y))"
   ]
  },
  {
   "cell_type": "code",
   "execution_count": 2,
   "metadata": {},
   "outputs": [
    {
     "name": "stdout",
     "output_type": "stream",
     "text": [
      "(6, 8)\n"
     ]
    }
   ],
   "source": [
    "p1=Point(2,3)\n",
    "p2=Point(4,5)\n",
    "print(p1+p2)"
   ]
  },
  {
   "cell_type": "code",
   "execution_count": 41,
   "metadata": {},
   "outputs": [],
   "source": [
    "# operator(==) overloading,comparing dates.\n",
    "class Mydate:\n",
    "    '''\n",
    "    '''\n",
    "    def __init__(self,date=1,month=1,year=2000):\n",
    "        if not(type(date)==int and type(month)==int and type(year)==int): #checking datatype of each part of the date\n",
    "            print(\"invalid date format\")\n",
    "        if(month>0 and month <=12): # validating month\n",
    "            self.month=month\n",
    "        else:\n",
    "            print(\"invalid month\")\n",
    "        if(year>1900):           # validating year\n",
    "            self.year=year\n",
    "        else:\n",
    "            print(\"invalid year\")\n",
    "        self.date=self.checkdate(date)  # calling checkdate method to validate date\n",
    "        \n",
    "    def checkdate(self,date):\n",
    "        if(self.year%400 ==0 or (self.year%100!=0  and self.year%4==0)):\n",
    "            currentyear=[31,29,31,30,31,30,31,30,31,30,31,30]\n",
    "        else:\n",
    "             currentyear=[31,28,31,30,31,30,31,30,31,30,31,30]\n",
    "        if(date>0 and date<=currentyear[self.month-1]):\n",
    "            return date\n",
    "        else:\n",
    "            print(\"invalid value for date\")\n",
    "    def __str__(self):\n",
    "         \n",
    "        if(self.date<=9):\n",
    "            date='0' +str(self.date)\n",
    "        if(self.month>0 and self.month<9):\n",
    "            month='0'+str(self.month)\n",
    "        return date+'-'+month+\"-\"+str(self.year)\n",
    "    \n",
    "#overloading == operator\n",
    "\n",
    "    def __eq__(self,other):\n",
    "        if isinstance(other,Mydate):\n",
    "            return(self.date==other.date)and (self.month==other.month) and (self.year==other.year)\n",
    "        else:\n",
    "            print(\"type mismatch\")\n",
    "#overloading < operator\n",
    "    def __lt__(self,other):\n",
    "        if isinstance(other,Mydate):\n",
    "            if(self.year<other.year):\n",
    "                answer=True\n",
    "            elif(self.year==other.year and self.month<other.month):\n",
    "                answer=True\n",
    "            elif(self.year==other.year and self.month==other.month and self.year<other.year):\n",
    "                answer=True\n",
    "            else:\n",
    "                answer=False\n",
    "            return answer\n",
    "        else:\n",
    "            print(\"mismatch\")\n"
   ]
  },
  {
   "cell_type": "code",
   "execution_count": null,
   "metadata": {},
   "outputs": [],
   "source": []
  },
  {
   "cell_type": "code",
   "execution_count": null,
   "metadata": {},
   "outputs": [],
   "source": []
  },
  {
   "cell_type": "code",
   "execution_count": 37,
   "metadata": {},
   "outputs": [
    {
     "data": {
      "text/plain": [
       "True"
      ]
     },
     "execution_count": 37,
     "metadata": {},
     "output_type": "execute_result"
    }
   ],
   "source": [
    "today=Mydate(3,2,2009)\n",
    "date2=Mydate(3,2,2009)\n",
    "date3=Mydate(12,4,2008)\n",
    "today==date2\n"
   ]
  },
  {
   "cell_type": "code",
   "execution_count": 38,
   "metadata": {},
   "outputs": [
    {
     "data": {
      "text/plain": [
       "False"
      ]
     },
     "execution_count": 38,
     "metadata": {},
     "output_type": "execute_result"
    }
   ],
   "source": [
    "today==date3"
   ]
  },
  {
   "cell_type": "code",
   "execution_count": 44,
   "metadata": {},
   "outputs": [
    {
     "name": "stdout",
     "output_type": "stream",
     "text": [
      "[<__main__.Mydate object at 0x000001E8363443C8>, <__main__.Mydate object at 0x000001E836344BC8>, <__main__.Mydate object at 0x000001E836344A88>]\n",
      "[<__main__.Mydate object at 0x000001E8363443C8>, <__main__.Mydate object at 0x000001E836344BC8>, <__main__.Mydate object at 0x000001E836344A88>]\n",
      "[<__main__.Mydate object at 0x000001E8363443C8>, <__main__.Mydate object at 0x000001E836344BC8>, <__main__.Mydate object at 0x000001E836344A88>]\n"
     ]
    }
   ],
   "source": [
    "dates=[Mydate(4,6,2009),Mydate(30,3,2013),Mydate(24,6,2007)]\n",
    "dates.sort()\n",
    "for date in dates:\n",
    "    print(dates)\n"
   ]
  },
  {
   "cell_type": "code",
   "execution_count": null,
   "metadata": {},
   "outputs": [],
   "source": [
    "\n"
   ]
  },
  {
   "cell_type": "code",
   "execution_count": 52,
   "metadata": {},
   "outputs": [
    {
     "name": "stdout",
     "output_type": "stream",
     "text": [
      "91.0 96.0\n"
     ]
    }
   ],
   "source": [
    "import pickle\n",
    "class Person:\n",
    "    '''the class person describes a person'''\n",
    "    count=0\n",
    "    def __init__(self,rollno,name,marks):\n",
    "        '''\n",
    "        Objective: To initialize object of class person\n",
    "        Input parameter:\n",
    "            self-object of type person\n",
    "            rollno-int\n",
    "            name-string\n",
    "            marks-int\n",
    "        return value:\n",
    "                    None\n",
    "        '''\n",
    "        self.rollno=rollno\n",
    "        self.name=name\n",
    "        self.marks=marks\n",
    "        Person.count+=1\n",
    "fIn=open('C:\\\\Users\\\\Dilpreet kaur\\\\MCA101\\\\student.txt','r')\n",
    "fOut=open('record.txt','wb')\n",
    "line1 = fIn.readline()\n",
    "sList=line1.split(',')\n",
    "rollno=int(sList[0])\n",
    "name=sList[1]\n",
    "marks=float(sList[2])+2.0\n",
    "p1=Person(rollno, name, marks)\n",
    "pickle.dump(p1,fOut)\n",
    "line1 = fIn.readline()\n",
    "sList=line1.split(',')\n",
    "rollno=int(sList[0])\n",
    "name=sList[1]\n",
    "marks=float(sList[2])+2.0\n",
    "p1=Person(rollno, name, marks)\n",
    "pickle.dump(p1,fOut)\n",
    "fOut.close()\n",
    "#read\n",
    "f=open('record.txt','rb')\n",
    "value1=pickle.load(f)\n",
    "value2=pickle.load(f)\n",
    "print(value1.marks, value2.marks)\n",
    "f.close()\n",
    "\n",
    "   "
   ]
  },
  {
   "cell_type": "code",
   "execution_count": 13,
   "metadata": {},
   "outputs": [],
   "source": [
    "# adding methods dynamically\n",
    "class Student:\n",
    "    '''\n",
    "    '''\n",
    "    count=0\n",
    "    totalmarks=500\n",
    "    def __init__(self,rollno,name,marks):\n",
    "        self.rollno=rollno\n",
    "        self.name=name\n",
    "        self.marks=marks\n",
    "\n",
    "        def getpercentage(self): # defined outside class  \n",
    "        percent=(float(self.marks)/Student.totalmarks)*100\n",
    "        return percent"
   ]
  },
  {
   "cell_type": "code",
   "execution_count": 14,
   "metadata": {},
   "outputs": [
    {
     "name": "stdout",
     "output_type": "stream",
     "text": [
      "90.0\n"
     ]
    }
   ],
   "source": [
    "s1=Student(\"abhay\",47,450)\n",
    "Student.getpercentage=getpercentage\n",
    "print(s1.getpercentage()) #accesing with a class object"
   ]
  },
  {
   "cell_type": "code",
   "execution_count": 19,
   "metadata": {},
   "outputs": [],
   "source": [
    "from types import MethodType\n",
    "class Student:\n",
    "    '''\n",
    "    '''\n",
    "    count=0\n",
    "    totalmarks=500\n",
    "    def __init__(self,rollno,name,marks):\n",
    "        self.rollno=rollno\n",
    "        self.name=name\n",
    "        self.marks=marks\n",
    "def getpercentage(self): # defined outside class  \n",
    "        percent=(float(self.marks)/Student.totalmarks)*100\n",
    "        return percent\n",
    "def result(self):\n",
    "    return 'pass' if self.getpercentage() >=40 else 'fail'"
   ]
  },
  {
   "cell_type": "code",
   "execution_count": 21,
   "metadata": {},
   "outputs": [
    {
     "name": "stdout",
     "output_type": "stream",
     "text": [
      "90.0\n",
      "pass\n"
     ]
    },
    {
     "data": {
      "text/plain": [
       "'pass'"
      ]
     },
     "execution_count": 21,
     "metadata": {},
     "output_type": "execute_result"
    }
   ],
   "source": [
    "s1=Student(\"abhay\",47,450)\n",
    "Student.getpercentage=getpercentage\n",
    "print(s1.getpercentage())\n",
    "Student.result=result\n",
    "print(s1.result())\n",
    "s1.result=MethodType(result,s1)\n",
    "s1.result()"
   ]
  },
  {
   "cell_type": "code",
   "execution_count": 54,
   "metadata": {},
   "outputs": [],
   "source": [
    "#1Q\n",
    "class Point:\n",
    "    '''\n",
    "    '''\n",
    "    def __init__(self,x,y):\n",
    "        self.x=x\n",
    "        self.y=y\n",
    "    def __add__(self,other):\n",
    "        x=self.x+other.x\n",
    "        y=self.y+other.y\n",
    "        return Point(x,y)\n",
    "    def __str__(self):\n",
    "        return str((self.x,self.y))\n",
    "class Linesegment(Point):\n",
    "    '''\n",
    "    '''\n",
    "    def __init__(self,x,y,x2,y2):\n",
    "        super().__init__(x,y)\n",
    "        self.x2=x2\n",
    "        self.y2=y2\n",
    "    def setpoint(self):\n",
    "        self.x2=x2\n",
    "        self.y2=y2\n",
    "    def __str__(self):\n",
    "        return str((self.x,self.y,self.x2,self.y2))\n",
    "    def midpoint(self):\n",
    "        x=(self.x+self.x2)/2\n",
    "        y=(self.y+self.y2)/2\n",
    "        return Point(x,y)\n",
    "    def findslope(self):\n",
    "        m=self.y2-self.y/self.x2-self.x\n",
    "        return m\n",
    "    def checkParall(self,other):\n",
    "        if(self.findslope==other.findslope):\n",
    "            return True\n",
    "        else:\n",
    "            return False\n",
    "        "
   ]
  },
  {
   "cell_type": "code",
   "execution_count": 55,
   "metadata": {},
   "outputs": [
    {
     "name": "stdout",
     "output_type": "stream",
     "text": [
      "(-0.5, 4.0)\n"
     ]
    },
    {
     "data": {
      "text/plain": [
       "False"
      ]
     },
     "execution_count": 55,
     "metadata": {},
     "output_type": "execute_result"
    }
   ],
   "source": [
    "l1=Linesegment(1,3,-2,5)\n",
    "l2=Linesegment(4,3,2,1)\n",
    "l=l1.midpoint()\n",
    "print(l)\n",
    "l1.findslope()\n",
    "Linesegment.checkParall(l1,l2)\n",
    "\n"
   ]
  },
  {
   "cell_type": "code",
   "execution_count": 1,
   "metadata": {},
   "outputs": [],
   "source": [
    "#3Q import datetime \n",
    "class Mydate:\n",
    "    '''\n",
    "    '''\n",
    "    def __init__(self,date=1,month=1,year=2000):\n",
    "        if not(type(date)==int and type(month)==int and type(year)==int): #checking datatype of each part of the date\n",
    "            print(\"invalid date format\")\n",
    "        if(month>0 and month <=12): # validating month\n",
    "            self.month=month\n",
    "        else:\n",
    "            print(\"invalid month\")\n",
    "        if(year>1900):           # validating year\n",
    "            self.year=year\n",
    "        else:\n",
    "            print(\"invalid year\")\n",
    "        self.date=self.checkdate(date)  # calling checkdate method to validate date\n",
    "        \n",
    "    def checkdate(self,date):\n",
    "        if(self.year%400 ==0 or (self.year%100!=0  and self.year%4==0)):\n",
    "            currentyear=[31,29,31,30,31,30,31,30,31,30,31,30]\n",
    "        else:\n",
    "             currentyear=[31,28,31,30,31,30,31,30,31,30,31,30]\n",
    "        if(date>0 and date<=currentyear[self.month-1]):\n",
    "            return date\n",
    "        else:\n",
    "            print(\"invalid value for date\")\n",
    "    def __str__(self):\n",
    "         \n",
    "        if(self.date<=9):\n",
    "            date='0' +str(self.date)\n",
    "        if(self.month>0 and self.month<9):\n",
    "            month='0'+str(self.month)\n",
    "        return date+'-'+month+\"-\"+str(self.year)\n",
    "    \n",
    "#overloading == operator\n",
    "\n",
    "    def __eq__(self,other):\n",
    "        if isinstance(other,Mydate):\n",
    "            return(self.date==other.date)and (self.month==other.month) and (self.year==other.year)\n",
    "        else:\n",
    "            print(\"type mismatch\")\n",
    "#overloading < operator\n",
    "    def __lt__(self,other):\n",
    "        if isinstance(other,Mydate):\n",
    "            if(self.year<other.year):\n",
    "                answer=True\n",
    "            elif(self.year==other.year and self.month<other.month):\n",
    "                answer=True\n",
    "            elif(self.year==other.year and self.month==other.month and self.year<other.year):\n",
    "                answer=True\n",
    "            else:\n",
    "                answer=False\n",
    "            return answer\n",
    "        else:\n",
    "            print(\"mismatch\")\n",
    "    def __sub__(self,other):\n",
    "        a = datetime.datetime(self) \n",
    "        b = datetime.datetime(other) \n",
    "        diff=a-b\n",
    "        print(diff)\n"
   ]
  },
  {
   "cell_type": "code",
   "execution_count": 3,
   "metadata": {},
   "outputs": [],
   "source": [
    "d1=Mydate(4,4,2014)\n",
    "d2=Mydate(6,6,2012)\n"
   ]
  },
  {
   "cell_type": "code",
   "execution_count": 93,
   "metadata": {},
   "outputs": [],
   "source": [
    "#4\n",
    "class Complex(object):\n",
    "    '''\n",
    "    '''\n",
    "    def __init__(self, real, imag=0.0):\n",
    "        self.real = real\n",
    "        self.imag = imag\n",
    "\n",
    "    def __add__(self, other):\n",
    "        return Complex(self.real + other.real,\n",
    "                       self.imag + other.imag)\n",
    "\n",
    "    def __sub__(self, other):\n",
    "        return Complex(self.real - other.real,\n",
    "                       self.imag - other.imag)\n",
    "\n",
    "    def __mul__(self, other):\n",
    "        return Complex(self.real*other.real - self.imag*other.imag,\n",
    "                       self.imag*other.real + self.real*other.imag)\n",
    "\n",
    "    def __abs__(self):\n",
    "        return sqrt(self.real**2 + self.imag**2)\n",
    "\n",
    "    def __neg__(self):   # defines -c (c is Complex)\n",
    "        return Complex(-self.real, -self.imag)\n",
    "\n",
    "    def __eq__(self, other):\n",
    "        return self.real == other.real and self.imag == other.imag\n",
    "\n",
    "    def __ne__(self, other):\n",
    "        return not self.__eq__(other)\n",
    "\n",
    "    def __str__(self):\n",
    "        return '(%g, %g)' % (self.real, self.imag)\n",
    "\n",
    "   \n",
    "   \n",
    "    "
   ]
  },
  {
   "cell_type": "code",
   "execution_count": 96,
   "metadata": {},
   "outputs": [
    {
     "name": "stdout",
     "output_type": "stream",
     "text": [
      "(8, -10)\n",
      "(-2, 2)\n",
      "(-9, -38)\n"
     ]
    }
   ],
   "source": [
    "u = Complex(3,-4) #representing 3+4i\n",
    "v = Complex(5,-6) #representing 5+6i\n",
    "w=u+v\n",
    "print(w)\n",
    "m=u-v\n",
    "print(m)\n",
    "c=u*v\n",
    "print(c)"
   ]
  },
  {
   "cell_type": "code",
   "execution_count": 124,
   "metadata": {},
   "outputs": [],
   "source": [
    "#5Q\n",
    "class Shape:\n",
    "    '''\n",
    "    '''\n",
    "    def __init__(self,shapetype,x,y):\n",
    "        self.shapetype=shapetype\n",
    "        self.x=x\n",
    "        self.y=y\n",
    "    def computearea():\n",
    "        pass\n",
    "    \n",
    "class Rectangle(Shape):\n",
    "    '''\n",
    "    '''\n",
    "    def __init__(self,length,breadth):\n",
    "        Shape.__init__(self,'Rectangle',length,breadth)\n",
    "        self.length=length\n",
    "        self.breadth=breadth\n",
    "    def computearea(self):\n",
    "        return self.length*self.breadth\n",
    "    \n",
    "class Triangle(Shape):\n",
    "    '''\n",
    "    '''\n",
    "    def __init__(self,length,breadth):\n",
    "        Shape.__init__(self,'Triangle',length,breadth)\n",
    "        self.length=length\n",
    "        self.breadth=breadth\n",
    "    def computearea(self):\n",
    "        return (self.length*self.breadth)/2\n",
    "\n",
    "        \n",
    "    \n",
    "    "
   ]
  },
  {
   "cell_type": "markdown",
   "metadata": {},
   "source": [
    "t=Triangle(2,2)\n",
    "t.computearea()"
   ]
  },
  {
   "cell_type": "code",
   "execution_count": 125,
   "metadata": {},
   "outputs": [
    {
     "data": {
      "text/plain": [
       "2.0"
      ]
     },
     "execution_count": 125,
     "metadata": {},
     "output_type": "execute_result"
    }
   ],
   "source": [
    "r=Rectangle(3,4)\n",
    "r.computearea()\n",
    "t=Triangle(2,2)\n",
    "t.computearea()"
   ]
  },
  {
   "cell_type": "code",
   "execution_count": null,
   "metadata": {},
   "outputs": [],
   "source": []
  },
  {
   "cell_type": "code",
   "execution_count": 133,
   "metadata": {},
   "outputs": [],
   "source": [
    "class Person: \n",
    "    ''' The class Person describes a person''' \n",
    "    count = 0 \n",
    "    def __init__(self, name, DOB, address): \n",
    "    \n",
    "        self.name = name \n",
    "        self.DOB = DOB \n",
    "        self.address = address \n",
    "        Person.count += 1\n",
    "    def getName(self): \n",
    "    \n",
    "      return self.name\n",
    "    \n",
    "    def getDOB(self): \n",
    "    \n",
    "      return self.DOB\n",
    "    \n",
    "    def getAddress(self): \n",
    "    \n",
    "      return self.address\n",
    "    \n",
    "    def getCount(self): \n",
    "   \n",
    "       return Person.count\n",
    "    '''def __str__(self): \n",
    "        return 'Name:'+self.name+'\\nDOB:'+str(self.DOB)\\ +'\\nAddress:'+self.address\n",
    "    '''\n",
    "class Student(Person):\n",
    "    '''\n",
    "    '''\n",
    "    def  __init__(self, name, DOB, address,rollno,Class,totalmarks,year):\n",
    "        Person.__init__(self, name, DOB, address)\n",
    "        self.rollno=rollno\n",
    "        self.Class=Class\n",
    "        self.totalmarks=totalmarks\n",
    "        self.year=year\n",
    "    def percentage():\n",
    "        pass\n",
    "class Grad(Student):\n",
    "    '''\n",
    "    '''\n",
    "    def  __init__(self, name, DOB, address,rollno,Class,totalmarks,year):\n",
    "        Student.__init__(self, name, DOB, address,rollno,Class,totalmarks,year)\n",
    "    def percentage(self):\n",
    "        p=(self.totalmarks/600)*100\n",
    "        return p\n",
    "class Postgrad(Student):\n",
    "    '''\n",
    "    '''\n",
    "    def  __init__(self, name, DOB, address,rollno,Class,totalmarks,year):\n",
    "        Student.__init__(self, name, DOB, address,rollno,Class,totalmarks,year)\n",
    "    def percentage(self):\n",
    "        p1=(self.totalmarks/400)*100\n",
    "        return p1"
   ]
  },
  {
   "cell_type": "code",
   "execution_count": 137,
   "metadata": {},
   "outputs": [
    {
     "data": {
      "text/plain": [
       "100.0"
      ]
     },
     "execution_count": 137,
     "metadata": {},
     "output_type": "execute_result"
    }
   ],
   "source": [
    "g1=Grad('abay',3-4-2001,\"yuyd\",1022,\"sem1\",450,2018)\n",
    "g1.percentage()\n",
    "g2=Postgrad('abay',3-4-2001,\"yuyd\",1022,\"sem1\",400,2018)\n",
    "g2.percentage()"
   ]
  },
  {
   "cell_type": "code",
   "execution_count": 143,
   "metadata": {},
   "outputs": [],
   "source": [
    "class Vehicle:\n",
    "    '''\n",
    "    '''\n",
    "    def __init__(self,regno,make,model,color):\n",
    "        self.regno=regno\n",
    "        self.make=make\n",
    "        self.model=model\n",
    "        self.color=color\n",
    "    def setregno(self):\n",
    "        self.regno=regno\n",
    "    def getregno(self):\n",
    "        return self.regno\n",
    "class Passengerveh(Vehicle):\n",
    "    maxpassanger=70\n",
    "    def __init__(self,regno,make,model,color):\n",
    "        Vehicle.__init__(self,regno,make,model,color)\n",
    "class Commveh(Vehicle):\n",
    "    maxloadcapacity=90\n",
    "    def __init__(self,regno,make,model,color):\n",
    "        Vehicle.__init__(self,regno,make,model,color)\n",
    "        "
   ]
  },
  {
   "cell_type": "markdown",
   "metadata": {},
   "source": [
    "v1=Vehicle(1002,302,\"A34\",\"red\")\n",
    "v1.getregno()"
   ]
  },
  {
   "cell_type": "code",
   "execution_count": 144,
   "metadata": {},
   "outputs": [
    {
     "data": {
      "text/plain": [
       "1002"
      ]
     },
     "execution_count": 144,
     "metadata": {},
     "output_type": "execute_result"
    }
   ],
   "source": [
    "v1=Vehicle(1002,302,\"A34\",\"red\") \n",
    "v1.getregno()"
   ]
  },
  {
   "cell_type": "code",
   "execution_count": null,
   "metadata": {},
   "outputs": [],
   "source": [
    "class Mydate:\n",
    "    '''\n",
    "    '''\n",
    "    def __init__(self,date=1,month=1,year=2000):\n",
    "        if not(type(date)==int and type(month)==int and type(year)==int): #checking datatype of each part of the date\n",
    "            print(\"invalid date format\")\n",
    "        if(month>0 and month <=12): # validating month\n",
    "            self.month=month\n",
    "        else:\n",
    "            print(\"invalid month\")\n",
    "        if(year>1900):           # validating year\n",
    "            self.year=year\n",
    "        else:\n",
    "            print(\"invalid year\")\n",
    "        self.date=self.checkdate(date)  # calling checkdate method to validate date\n",
    "        "
   ]
  },
  {
   "cell_type": "code",
   "execution_count": 10,
   "metadata": {},
   "outputs": [],
   "source": [
    "class Mydate:\n",
    "    '''\n",
    "    '''\n",
    "    def __init__(self,day='',date=1,month=1,year=2000):\n",
    "        self.day=day\n",
    "        if not(type(date)==int and type(month)==int and type(year)==int): #checking datatype of each part of the date\n",
    "            print(\"invalid date format\")\n",
    "        if(month>0 and month <=12): # validating month\n",
    "            self.month=month\n",
    "        else:\n",
    "            print(\"invalid month\")\n",
    "        if(year>1900):           # validating year\n",
    "            self.year=year\n",
    "        else:\n",
    "            print(\"invalid year\")\n",
    "        self.date=date  # calling checkdate method to validate date\n",
    "    def next_date(self,day):\n",
    "        days=['mon','tue','wed','thurs','friday','sat','sun']\n",
    "        for i in days:\n",
    "            if(self.day==i):\n",
    "                self.day=i+1\n",
    "            return self.day\n",
    "    def __str__(self):\n",
    "         \n",
    "        if(self.date<=9):\n",
    "            date='0' +str(self.date)\n",
    "        if(self.month>0 and self.month<9):\n",
    "            month='0'+str(self.month)\n",
    "        return str(self.next_date)\n"
   ]
  },
  {
   "cell_type": "code",
   "execution_count": 11,
   "metadata": {},
   "outputs": [],
   "source": [
    "date=Mydate('mon',7,12,2001)\n"
   ]
  },
  {
   "cell_type": "code",
   "execution_count": 12,
   "metadata": {},
   "outputs": [
    {
     "name": "stdout",
     "output_type": "stream",
     "text": [
      "1001 Dilpreet\n"
     ]
    }
   ],
   "source": [
    "import pickle\n",
    "class Person:\n",
    "    '''the class person describes a person'''\n",
    "    count=0\n",
    "    def __init__(self,name,DOB):\n",
    "        '''\n",
    "        Objective: To initialize object of class person\n",
    "        Input parameter:\n",
    "            self-object of type person\n",
    "            rollno-int\n",
    "            name-string\n",
    "            marks-int\n",
    "        return value:\n",
    "                    None\n",
    "        '''\n",
    "        \n",
    "        self.name=name\n",
    "        self.DOB=DOB\n",
    "class Student(Person):\n",
    "    '''\n",
    "    '''\n",
    "    count=0\n",
    "    def __init__(self,name,DOB,rollno,marks):\n",
    "        \n",
    "        super().__init__(name,DOB)\n",
    "        self.rollno=rollno\n",
    "        self.marks=marks\n",
    "fIn=open('student.txt','r')\n",
    "fOut=open('r.txt','wb')\n",
    "line1 = fIn.readline()\n",
    "sList=line1.split(',')\n",
    "name=sList[0]\n",
    "DOB=sList[1]\n",
    "rollno=sList[2]\n",
    "marks=float(sList[3])+5.0\n",
    "p1=Student( name,DOB,rollno, marks)\n",
    "pickle.dump(p1,fOut)\n",
    "fOut.close()\n",
    "#read\n",
    "f=open('r.txt','rb')\n",
    "value1=pickle.load(f)\n",
    "\n",
    "print(value1.rollno,value1.name)\n",
    "f.close()\n",
    "\n",
    "        \n",
    "        "
   ]
  },
  {
   "cell_type": "code",
   "execution_count": null,
   "metadata": {},
   "outputs": [],
   "source": []
  }
 ],
 "metadata": {
  "kernelspec": {
   "display_name": "Python 3",
   "language": "python",
   "name": "python3"
  },
  "language_info": {
   "codemirror_mode": {
    "name": "ipython",
    "version": 3
   },
   "file_extension": ".py",
   "mimetype": "text/x-python",
   "name": "python",
   "nbconvert_exporter": "python",
   "pygments_lexer": "ipython3",
   "version": "3.7.4"
  }
 },
 "nbformat": 4,
 "nbformat_minor": 2
}
